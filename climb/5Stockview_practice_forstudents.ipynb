{
 "cells": [
  {
   "cell_type": "code",
   "execution_count": null,
   "metadata": {},
   "outputs": [],
   "source": [
    "#導入 matplotlib.pyplot為plt\n",
    "#從bs4 導入 BeautifulSoup\n",
    "#導入 requests 模組\n",
    "請輸入程式碼\n",
    "\n",
    "#宣告month, high, low三個list\n",
    "month,high,low = [],[],[]\n",
    "url = 'https://www.twse.com.tw/exchangeReport/FMSRFK?response=html&date=20190101&stockNo=2330'\n",
    "\n",
    "#使用requests get url\n",
    "請輸入程式碼\n",
    "\n",
    "\n",
    "#使用BeautifulSoup解讀\n",
    "請輸入程式碼\n",
    "\n",
    "#抓出table，並存成變數datas\n",
    "datas = sp.select(\"table\")[0]\n",
    "\n",
    "#在datas中選擇tbody tr的標籤\n",
    "請輸入程式碼\n",
    "\n",
    "#使用迴圈找出td，讀取出每個月的資料\n",
    "#td的第一個欄位為年份，不管他\n",
    "#td的第二個欄位為月份，加入到month list中\n",
    "#td的第三個欄位為當月最高價，加入到high list中\n",
    "#td的第三個欄位為當月最低價，加入到low list中\n",
    "請輸入程式碼\n",
    "\n",
    "    \n",
    "#將圖表顯示出來\n",
    "plt.show()"
   ]
  }
 ],
 "metadata": {
  "kernelspec": {
   "display_name": "Python 3",
   "language": "python",
   "name": "python3"
  },
  "language_info": {
   "codemirror_mode": {
    "name": "ipython",
    "version": 3
   },
   "file_extension": ".py",
   "mimetype": "text/x-python",
   "name": "python",
   "nbconvert_exporter": "python",
   "pygments_lexer": "ipython3",
   "version": "3.8.3"
  }
 },
 "nbformat": 4,
 "nbformat_minor": 4
}
