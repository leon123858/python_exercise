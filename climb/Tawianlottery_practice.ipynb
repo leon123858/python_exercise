{
 "cells": [
  {
   "cell_type": "code",
   "execution_count": null,
   "metadata": {},
   "outputs": [],
   "source": [
    "import requests\n",
    "from bs4 import BeautifulSoup\n",
    "\n",
    "url = 'https://www.taiwanlottery.com.tw/index_new.aspx'\n",
    "r = requests.get(url)\n",
    "sp = BeautifulSoup(r.text, 'lxml')\n",
    "\n",
    "# 找到威力彩的區塊\n",
    "datas = sp.find('div', class_='contents_box02')\n",
    "\n",
    "# 開獎期數\n",
    "title = datas.find('span', class_='font_black15').text\n",
    "print('威力彩期數：', title)\n",
    "\n",
    "# 開獎號碼\n",
    "nums = datas.find_all('div', class_='ball_tx ball_green')\n",
    "\n",
    "# 開出順序\n",
    "print('開出順序：', end=' ')\n",
    "for i in range(0,6):\n",
    "    print(nums[i].text, end=' ')\n",
    "    \n",
    "# 大小順序\n",
    "print('\\n大小順序：', end=' ')\n",
    "for i in range(6,12):\n",
    "    print(nums[i].text, end=' ')\n",
    "    \n",
    "# 第二區\n",
    "num = datas.find('div', class_='ball_red').text\n",
    "print('\\n第二區：', num)"
   ]
  }
 ],
 "metadata": {
  "kernelspec": {
   "display_name": "Python 3",
   "language": "python",
   "name": "python3"
  },
  "language_info": {
   "codemirror_mode": {
    "name": "ipython",
    "version": 3
   },
   "file_extension": ".py",
   "mimetype": "text/x-python",
   "name": "python",
   "nbconvert_exporter": "python",
   "pygments_lexer": "ipython3",
   "version": "3.8.3"
  }
 },
 "nbformat": 4,
 "nbformat_minor": 4
}
