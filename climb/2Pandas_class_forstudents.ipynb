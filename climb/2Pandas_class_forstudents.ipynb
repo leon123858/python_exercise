{
 "cells": [
  {
   "cell_type": "code",
   "execution_count": 1,
   "metadata": {},
   "outputs": [],
   "source": [
    "import pandas as pd"
   ]
  },
  {
   "cell_type": "code",
   "execution_count": 2,
   "metadata": {},
   "outputs": [],
   "source": [
    "from pandas import Series, DataFrame"
   ]
  },
  {
   "cell_type": "markdown",
   "metadata": {},
   "source": [
    "# Series"
   ]
  },
  {
   "cell_type": "code",
   "execution_count": 3,
   "metadata": {},
   "outputs": [
    {
     "name": "stdout",
     "output_type": "stream",
     "text": [
      "0     0\n",
      "1    10\n",
      "2    20\n",
      "3    30\n",
      "4    40\n",
      "5    50\n",
      "6    60\n",
      "7    70\n",
      "8    80\n",
      "9    90\n",
      "dtype: int64\n"
     ]
    }
   ],
   "source": [
    "sample_pandas_data = pd.Series([0,10,20,30,40,50,60,70,80,90])\n",
    "print(sample_pandas_data)"
   ]
  },
  {
   "cell_type": "code",
   "execution_count": 5,
   "metadata": {},
   "outputs": [
    {
     "name": "stdout",
     "output_type": "stream",
     "text": [
      "資料值: [ 0 10 20 30 40 50 60 70 80 90]\n",
      "資料值: RangeIndex(start=0, stop=10, step=1)\n"
     ]
    }
   ],
   "source": [
    "#印出資料值\n",
    "print('資料值:',sample_pandas_data.values)\n",
    "#印出索引值\n",
    "print('資料值:',sample_pandas_data.index)"
   ]
  },
  {
   "cell_type": "markdown",
   "metadata": {},
   "source": [
    "# Specify index in Series"
   ]
  },
  {
   "cell_type": "code",
   "execution_count": 6,
   "metadata": {},
   "outputs": [
    {
     "name": "stdout",
     "output_type": "stream",
     "text": [
      "a     0\n",
      "b    10\n",
      "c    20\n",
      "d    30\n",
      "e    40\n",
      "f    50\n",
      "g    60\n",
      "h    70\n",
      "i    80\n",
      "j    90\n",
      "dtype: int64\n"
     ]
    }
   ],
   "source": [
    "sample_pandas_index_data = pd.Series(\n",
    "    [0, 10,20,30,40,50,60,70,80,90],\n",
    "    #輸入自訂的文字index\n",
    "    ['a','b','c','d','e','f','g','h','i','j']\n",
    "    \n",
    ")\n",
    "\n",
    "print(sample_pandas_index_data)"
   ]
  },
  {
   "cell_type": "code",
   "execution_count": 9,
   "metadata": {},
   "outputs": [
    {
     "name": "stdout",
     "output_type": "stream",
     "text": [
      "資料值: [ 0 10 20 30 40 50 60 70 80 90]\n",
      "索引值: Index(['a', 'b', 'c', 'd', 'e', 'f', 'g', 'h', 'i', 'j'], dtype='object')\n",
      "d\n"
     ]
    }
   ],
   "source": [
    "print('資料值:', sample_pandas_index_data.values)\n",
    "print('索引值:', sample_pandas_index_data.index)\n",
    "print(sample_pandas_index_data.index[3])"
   ]
  },
  {
   "cell_type": "markdown",
   "metadata": {},
   "source": [
    "# DataFrame"
   ]
  },
  {
   "cell_type": "code",
   "execution_count": 10,
   "metadata": {},
   "outputs": [
    {
     "name": "stdout",
     "output_type": "stream",
     "text": [
      "    ID       City  Birth_year    Name\n",
      "0  100     Taipei        1990   Sally\n",
      "1  101     Taipei        1989   Hanks\n",
      "2  102    Hsinchu        1992  Hannah\n",
      "3  103     Tainan        1997   Kitty\n",
      "4  104  Kaohsiung        1982   Steve\n"
     ]
    }
   ],
   "source": [
    "attri_data1 = {'ID':['100','101','102','103','104'],\n",
    "               'City':['Taipei','Taipei','Hsinchu','Tainan','Kaohsiung'],\n",
    "               'Birth_year':[1990,1989,1992,1997,1982],\n",
    "               'Name':['Sally','Hanks','Hannah','Kitty','Steve']}\n",
    "\n",
    "attri_data_frame1 = DataFrame(attri_data1)\n",
    "\n",
    "print(attri_data_frame1)"
   ]
  },
  {
   "cell_type": "markdown",
   "metadata": {},
   "source": [
    "# Specify Index in DataFrame"
   ]
  },
  {
   "cell_type": "code",
   "execution_count": 11,
   "metadata": {},
   "outputs": [
    {
     "name": "stdout",
     "output_type": "stream",
     "text": [
      "    ID       City  Birth_year    Name\n",
      "a  100     Taipei        1990   Sally\n",
      "b  101     Taipei        1989   Hanks\n",
      "c  102    Hsinchu        1992  Hannah\n",
      "d  103     Tainan        1997   Kitty\n",
      "e  104  Kaohsiung        1982   Steve\n"
     ]
    }
   ],
   "source": [
    "attri_data_frame_index1 = DataFrame(attri_data1,\n",
    "                                    #輸入自訂的index\n",
    "                                    index=['a','b','c','d','e']\n",
    "                                   )\n",
    "print(attri_data_frame_index1)"
   ]
  },
  {
   "cell_type": "code",
   "execution_count": 12,
   "metadata": {},
   "outputs": [
    {
     "data": {
      "text/html": [
       "<div>\n",
       "<style scoped>\n",
       "    .dataframe tbody tr th:only-of-type {\n",
       "        vertical-align: middle;\n",
       "    }\n",
       "\n",
       "    .dataframe tbody tr th {\n",
       "        vertical-align: top;\n",
       "    }\n",
       "\n",
       "    .dataframe thead th {\n",
       "        text-align: right;\n",
       "    }\n",
       "</style>\n",
       "<table border=\"1\" class=\"dataframe\">\n",
       "  <thead>\n",
       "    <tr style=\"text-align: right;\">\n",
       "      <th></th>\n",
       "      <th>ID</th>\n",
       "      <th>City</th>\n",
       "      <th>Birth_year</th>\n",
       "      <th>Name</th>\n",
       "    </tr>\n",
       "  </thead>\n",
       "  <tbody>\n",
       "    <tr>\n",
       "      <th>a</th>\n",
       "      <td>100</td>\n",
       "      <td>Taipei</td>\n",
       "      <td>1990</td>\n",
       "      <td>Sally</td>\n",
       "    </tr>\n",
       "    <tr>\n",
       "      <th>b</th>\n",
       "      <td>101</td>\n",
       "      <td>Taipei</td>\n",
       "      <td>1989</td>\n",
       "      <td>Hanks</td>\n",
       "    </tr>\n",
       "    <tr>\n",
       "      <th>c</th>\n",
       "      <td>102</td>\n",
       "      <td>Hsinchu</td>\n",
       "      <td>1992</td>\n",
       "      <td>Hannah</td>\n",
       "    </tr>\n",
       "    <tr>\n",
       "      <th>d</th>\n",
       "      <td>103</td>\n",
       "      <td>Tainan</td>\n",
       "      <td>1997</td>\n",
       "      <td>Kitty</td>\n",
       "    </tr>\n",
       "    <tr>\n",
       "      <th>e</th>\n",
       "      <td>104</td>\n",
       "      <td>Kaohsiung</td>\n",
       "      <td>1982</td>\n",
       "      <td>Steve</td>\n",
       "    </tr>\n",
       "  </tbody>\n",
       "</table>\n",
       "</div>"
      ],
      "text/plain": [
       "    ID       City  Birth_year    Name\n",
       "a  100     Taipei        1990   Sally\n",
       "b  101     Taipei        1989   Hanks\n",
       "c  102    Hsinchu        1992  Hannah\n",
       "d  103     Tainan        1997   Kitty\n",
       "e  104  Kaohsiung        1982   Steve"
      ]
     },
     "execution_count": 12,
     "metadata": {},
     "output_type": "execute_result"
    }
   ],
   "source": [
    "attri_data_frame_index1"
   ]
  },
  {
   "cell_type": "markdown",
   "metadata": {},
   "source": [
    "# Transpose"
   ]
  },
  {
   "cell_type": "code",
   "execution_count": 14,
   "metadata": {},
   "outputs": [
    {
     "data": {
      "text/html": [
       "<div>\n",
       "<style scoped>\n",
       "    .dataframe tbody tr th:only-of-type {\n",
       "        vertical-align: middle;\n",
       "    }\n",
       "\n",
       "    .dataframe tbody tr th {\n",
       "        vertical-align: top;\n",
       "    }\n",
       "\n",
       "    .dataframe thead th {\n",
       "        text-align: right;\n",
       "    }\n",
       "</style>\n",
       "<table border=\"1\" class=\"dataframe\">\n",
       "  <thead>\n",
       "    <tr style=\"text-align: right;\">\n",
       "      <th></th>\n",
       "      <th>0</th>\n",
       "      <th>1</th>\n",
       "      <th>2</th>\n",
       "      <th>3</th>\n",
       "      <th>4</th>\n",
       "    </tr>\n",
       "  </thead>\n",
       "  <tbody>\n",
       "    <tr>\n",
       "      <th>ID</th>\n",
       "      <td>100</td>\n",
       "      <td>101</td>\n",
       "      <td>102</td>\n",
       "      <td>103</td>\n",
       "      <td>104</td>\n",
       "    </tr>\n",
       "    <tr>\n",
       "      <th>City</th>\n",
       "      <td>Taipei</td>\n",
       "      <td>Taipei</td>\n",
       "      <td>Hsinchu</td>\n",
       "      <td>Tainan</td>\n",
       "      <td>Kaohsiung</td>\n",
       "    </tr>\n",
       "    <tr>\n",
       "      <th>Birth_year</th>\n",
       "      <td>1990</td>\n",
       "      <td>1989</td>\n",
       "      <td>1992</td>\n",
       "      <td>1997</td>\n",
       "      <td>1982</td>\n",
       "    </tr>\n",
       "    <tr>\n",
       "      <th>Name</th>\n",
       "      <td>Sally</td>\n",
       "      <td>Hanks</td>\n",
       "      <td>Hannah</td>\n",
       "      <td>Kitty</td>\n",
       "      <td>Steve</td>\n",
       "    </tr>\n",
       "  </tbody>\n",
       "</table>\n",
       "</div>"
      ],
      "text/plain": [
       "                 0       1        2       3          4\n",
       "ID             100     101      102     103        104\n",
       "City        Taipei  Taipei  Hsinchu  Tainan  Kaohsiung\n",
       "Birth_year    1990    1989     1992    1997       1982\n",
       "Name         Sally   Hanks   Hannah   Kitty      Steve"
      ]
     },
     "execution_count": 14,
     "metadata": {},
     "output_type": "execute_result"
    }
   ],
   "source": [
    "#attri_data_frame1的行列交換\n",
    "attri_data_frame1.T"
   ]
  },
  {
   "cell_type": "markdown",
   "metadata": {},
   "source": [
    "# Get One Column"
   ]
  },
  {
   "cell_type": "code",
   "execution_count": 25,
   "metadata": {},
   "outputs": [
    {
     "data": {
      "text/plain": [
       "0    1990\n",
       "1    1989\n",
       "2    1992\n",
       "3    1997\n",
       "4    1982\n",
       "Name: Birth_year, dtype: int64"
      ]
     },
     "execution_count": 25,
     "metadata": {},
     "output_type": "execute_result"
    }
   ],
   "source": [
    "#取得Birth_year行\n",
    "#attri_data_frame1.Birth_year\n"
   ]
  },
  {
   "cell_type": "markdown",
   "metadata": {},
   "source": [
    "# Get Many Column"
   ]
  },
  {
   "cell_type": "code",
   "execution_count": 19,
   "metadata": {},
   "outputs": [
    {
     "data": {
      "text/html": [
       "<div>\n",
       "<style scoped>\n",
       "    .dataframe tbody tr th:only-of-type {\n",
       "        vertical-align: middle;\n",
       "    }\n",
       "\n",
       "    .dataframe tbody tr th {\n",
       "        vertical-align: top;\n",
       "    }\n",
       "\n",
       "    .dataframe thead th {\n",
       "        text-align: right;\n",
       "    }\n",
       "</style>\n",
       "<table border=\"1\" class=\"dataframe\">\n",
       "  <thead>\n",
       "    <tr style=\"text-align: right;\">\n",
       "      <th></th>\n",
       "      <th>ID</th>\n",
       "      <th>Birth_year</th>\n",
       "    </tr>\n",
       "  </thead>\n",
       "  <tbody>\n",
       "    <tr>\n",
       "      <th>0</th>\n",
       "      <td>100</td>\n",
       "      <td>1990</td>\n",
       "    </tr>\n",
       "    <tr>\n",
       "      <th>1</th>\n",
       "      <td>101</td>\n",
       "      <td>1989</td>\n",
       "    </tr>\n",
       "    <tr>\n",
       "      <th>2</th>\n",
       "      <td>102</td>\n",
       "      <td>1992</td>\n",
       "    </tr>\n",
       "    <tr>\n",
       "      <th>3</th>\n",
       "      <td>103</td>\n",
       "      <td>1997</td>\n",
       "    </tr>\n",
       "    <tr>\n",
       "      <th>4</th>\n",
       "      <td>104</td>\n",
       "      <td>1982</td>\n",
       "    </tr>\n",
       "  </tbody>\n",
       "</table>\n",
       "</div>"
      ],
      "text/plain": [
       "    ID  Birth_year\n",
       "0  100        1990\n",
       "1  101        1989\n",
       "2  102        1992\n",
       "3  103        1997\n",
       "4  104        1982"
      ]
     },
     "execution_count": 19,
     "metadata": {},
     "output_type": "execute_result"
    }
   ],
   "source": [
    "#取得ID與Birth_year行\n",
    "attri_data_frame1[['ID','Birth_year']]"
   ]
  },
  {
   "cell_type": "markdown",
   "metadata": {},
   "source": [
    "# Filter"
   ]
  },
  {
   "cell_type": "code",
   "execution_count": 26,
   "metadata": {},
   "outputs": [
    {
     "data": {
      "text/html": [
       "<div>\n",
       "<style scoped>\n",
       "    .dataframe tbody tr th:only-of-type {\n",
       "        vertical-align: middle;\n",
       "    }\n",
       "\n",
       "    .dataframe tbody tr th {\n",
       "        vertical-align: top;\n",
       "    }\n",
       "\n",
       "    .dataframe thead th {\n",
       "        text-align: right;\n",
       "    }\n",
       "</style>\n",
       "<table border=\"1\" class=\"dataframe\">\n",
       "  <thead>\n",
       "    <tr style=\"text-align: right;\">\n",
       "      <th></th>\n",
       "      <th>ID</th>\n",
       "      <th>City</th>\n",
       "      <th>Birth_year</th>\n",
       "      <th>Name</th>\n",
       "    </tr>\n",
       "  </thead>\n",
       "  <tbody>\n",
       "    <tr>\n",
       "      <th>0</th>\n",
       "      <td>100</td>\n",
       "      <td>Taipei</td>\n",
       "      <td>1990</td>\n",
       "      <td>Sally</td>\n",
       "    </tr>\n",
       "    <tr>\n",
       "      <th>1</th>\n",
       "      <td>101</td>\n",
       "      <td>Taipei</td>\n",
       "      <td>1989</td>\n",
       "      <td>Hanks</td>\n",
       "    </tr>\n",
       "  </tbody>\n",
       "</table>\n",
       "</div>"
      ],
      "text/plain": [
       "    ID    City  Birth_year   Name\n",
       "0  100  Taipei        1990  Sally\n",
       "1  101  Taipei        1989  Hanks"
      ]
     },
     "execution_count": 26,
     "metadata": {},
     "output_type": "execute_result"
    }
   ],
   "source": [
    "# attri_data_frame1中找出City為Taipei的資料\n",
    "attri_data_frame1[attri_data_frame1['City'] == 'Taipei']"
   ]
  },
  {
   "cell_type": "code",
   "execution_count": 27,
   "metadata": {},
   "outputs": [
    {
     "data": {
      "text/plain": [
       "0     True\n",
       "1     True\n",
       "2    False\n",
       "3    False\n",
       "4    False\n",
       "Name: City, dtype: bool"
      ]
     },
     "execution_count": 27,
     "metadata": {},
     "output_type": "execute_result"
    }
   ],
   "source": [
    "attri_data_frame1['City'] == 'Taipei'"
   ]
  },
  {
   "cell_type": "markdown",
   "metadata": {},
   "source": [
    "# Filter for Many Requiements"
   ]
  },
  {
   "cell_type": "code",
   "execution_count": 29,
   "metadata": {},
   "outputs": [
    {
     "data": {
      "text/html": [
       "<div>\n",
       "<style scoped>\n",
       "    .dataframe tbody tr th:only-of-type {\n",
       "        vertical-align: middle;\n",
       "    }\n",
       "\n",
       "    .dataframe tbody tr th {\n",
       "        vertical-align: top;\n",
       "    }\n",
       "\n",
       "    .dataframe thead th {\n",
       "        text-align: right;\n",
       "    }\n",
       "</style>\n",
       "<table border=\"1\" class=\"dataframe\">\n",
       "  <thead>\n",
       "    <tr style=\"text-align: right;\">\n",
       "      <th></th>\n",
       "      <th>ID</th>\n",
       "      <th>City</th>\n",
       "      <th>Birth_year</th>\n",
       "      <th>Name</th>\n",
       "    </tr>\n",
       "  </thead>\n",
       "  <tbody>\n",
       "    <tr>\n",
       "      <th>0</th>\n",
       "      <td>100</td>\n",
       "      <td>Taipei</td>\n",
       "      <td>1990</td>\n",
       "      <td>Sally</td>\n",
       "    </tr>\n",
       "    <tr>\n",
       "      <th>1</th>\n",
       "      <td>101</td>\n",
       "      <td>Taipei</td>\n",
       "      <td>1989</td>\n",
       "      <td>Hanks</td>\n",
       "    </tr>\n",
       "    <tr>\n",
       "      <th>3</th>\n",
       "      <td>103</td>\n",
       "      <td>Tainan</td>\n",
       "      <td>1997</td>\n",
       "      <td>Kitty</td>\n",
       "    </tr>\n",
       "  </tbody>\n",
       "</table>\n",
       "</div>"
      ],
      "text/plain": [
       "    ID    City  Birth_year   Name\n",
       "0  100  Taipei        1990  Sally\n",
       "1  101  Taipei        1989  Hanks\n",
       "3  103  Tainan        1997  Kitty"
      ]
     },
     "execution_count": 29,
     "metadata": {},
     "output_type": "execute_result"
    }
   ],
   "source": [
    "#attri_data_frame1中找出City為台北和台南的資料\n",
    "attri_data_frame1[attri_data_frame1['City'].isin(['Taipei','Tainan'])]"
   ]
  },
  {
   "cell_type": "markdown",
   "metadata": {},
   "source": [
    "# Pratice"
   ]
  },
  {
   "cell_type": "code",
   "execution_count": 31,
   "metadata": {},
   "outputs": [
    {
     "data": {
      "text/html": [
       "<div>\n",
       "<style scoped>\n",
       "    .dataframe tbody tr th:only-of-type {\n",
       "        vertical-align: middle;\n",
       "    }\n",
       "\n",
       "    .dataframe tbody tr th {\n",
       "        vertical-align: top;\n",
       "    }\n",
       "\n",
       "    .dataframe thead th {\n",
       "        text-align: right;\n",
       "    }\n",
       "</style>\n",
       "<table border=\"1\" class=\"dataframe\">\n",
       "  <thead>\n",
       "    <tr style=\"text-align: right;\">\n",
       "      <th></th>\n",
       "      <th>ID</th>\n",
       "      <th>City</th>\n",
       "      <th>Birth_year</th>\n",
       "      <th>Name</th>\n",
       "    </tr>\n",
       "  </thead>\n",
       "  <tbody>\n",
       "    <tr>\n",
       "      <th>0</th>\n",
       "      <td>100</td>\n",
       "      <td>Taipei</td>\n",
       "      <td>1990</td>\n",
       "      <td>Sally</td>\n",
       "    </tr>\n",
       "    <tr>\n",
       "      <th>1</th>\n",
       "      <td>101</td>\n",
       "      <td>Taipei</td>\n",
       "      <td>1989</td>\n",
       "      <td>Hanks</td>\n",
       "    </tr>\n",
       "    <tr>\n",
       "      <th>4</th>\n",
       "      <td>104</td>\n",
       "      <td>Kaohsiung</td>\n",
       "      <td>1982</td>\n",
       "      <td>Steve</td>\n",
       "    </tr>\n",
       "  </tbody>\n",
       "</table>\n",
       "</div>"
      ],
      "text/plain": [
       "    ID       City  Birth_year   Name\n",
       "0  100     Taipei        1990  Sally\n",
       "1  101     Taipei        1989  Hanks\n",
       "4  104  Kaohsiung        1982  Steve"
      ]
     },
     "execution_count": 31,
     "metadata": {},
     "output_type": "execute_result"
    }
   ],
   "source": [
    "#找出attri_data_frame1的Birth_year小於1990\n",
    "attri_data_frame1[attri_data_frame1['Birth_year'] <= 1990]"
   ]
  },
  {
   "cell_type": "markdown",
   "metadata": {},
   "source": [
    "# Drop Column"
   ]
  },
  {
   "cell_type": "code",
   "execution_count": 36,
   "metadata": {},
   "outputs": [
    {
     "name": "stdout",
     "output_type": "stream",
     "text": [
      "    ID       City  Birth_year    Name\n",
      "1  101     Taipei        1989   Hanks\n",
      "2  102    Hsinchu        1992  Hannah\n",
      "3  103     Tainan        1997   Kitty\n",
      "4  104  Kaohsiung        1982   Steve\n",
      "    ID       City    Name\n",
      "0  100     Taipei   Sally\n",
      "1  101     Taipei   Hanks\n",
      "2  102    Hsinchu  Hannah\n",
      "3  103     Tainan   Kitty\n",
      "4  104  Kaohsiung   Steve\n"
     ]
    }
   ],
   "source": [
    "#去掉Birth_year這一行\n",
    "print(attri_data_frame1.drop([0],axis = 0))\n",
    "print(attri_data_frame1.drop(['Birth_year'],axis = 1))"
   ]
  },
  {
   "cell_type": "code",
   "execution_count": 38,
   "metadata": {},
   "outputs": [
    {
     "name": "stdout",
     "output_type": "stream",
     "text": [
      "    ID       City  Birth_year    Name\n",
      "0  100     Taipei        1990   Sally\n",
      "1  101     Taipei        1989   Hanks\n",
      "2  102    Hsinchu        1992  Hannah\n",
      "3  103     Tainan        1997   Kitty\n",
      "4  104  Kaohsiung        1982   Steve\n",
      "    ID       City  Birth_year    Name\n",
      "0  100     Taipei        1990   Sally\n",
      "1  101     Taipei        1989   Hanks\n",
      "2  102    Hsinchu        1992  Hannah\n",
      "3  103     Tainan        1997   Kitty\n",
      "4  104  Kaohsiung        1982   Steve\n",
      "    ID       City    Name\n",
      "0  100     Taipei   Sally\n",
      "1  101     Taipei   Hanks\n",
      "2  102    Hsinchu  Hannah\n",
      "3  103     Tainan   Kitty\n",
      "4  104  Kaohsiung   Steve\n"
     ]
    }
   ],
   "source": [
    "attri_data1 = {'ID':['100','101','102','103','104'],\n",
    "               'City':['Taipei','Taipei','Hsinchu','Tainan','Kaohsiung'],\n",
    "               'Birth_year':[1990,1989,1992,1997,1982],\n",
    "               'Name':['Sally','Hanks','Hannah','Kitty','Steve']}\n",
    "\n",
    "\n",
    "attri_data_frame1 = DataFrame(attri_data1)\n",
    "print(attri_data_frame1)\n",
    "\n",
    "attri_data_frame1.drop(['Birth_year'], axis = 1)\n",
    "print(attri_data_frame1)\n",
    "\n",
    "#使用assign，使得attri_data_frame1的資料中真正拿掉Birth_year行\n",
    "attri_data_frame1 = attri_data_frame1.drop(['Birth_year'], axis = 1)\n",
    "print(attri_data_frame1)"
   ]
  },
  {
   "cell_type": "markdown",
   "metadata": {},
   "source": [
    "# Combine DataFrame"
   ]
  },
  {
   "cell_type": "code",
   "execution_count": 39,
   "metadata": {},
   "outputs": [
    {
     "name": "stdout",
     "output_type": "stream",
     "text": [
      "    ID       City  Birth_year    Name\n",
      "0  100     Taipei        1990   Sally\n",
      "1  101     Taipei        1989   Hanks\n",
      "2  102    Hsinchu        1992  Hannah\n",
      "3  103     Tainan        1997   Kitty\n",
      "4  104  Kaohsiung        1982   Steve\n",
      "    ID  Math  English Sex\n",
      "0  100    50       90   M\n",
      "1  101    43       30   F\n",
      "2  102    33       20   F\n",
      "3  105    76       50   M\n",
      "4  107    98       30   M\n"
     ]
    }
   ],
   "source": [
    "#準備資料\n",
    "attri_data1 = {'ID':['100','101','102','103','104'],\n",
    "               'City':['Taipei','Taipei','Hsinchu','Tainan','Kaohsiung'],\n",
    "               'Birth_year':[1990,1989,1992,1997,1982],\n",
    "               'Name':['Sally','Hanks','Hannah','Kitty','Steve']}\n",
    "attri_data_frame1 = DataFrame(attri_data1)\n",
    "print(attri_data_frame1)\n",
    "\n",
    "\n",
    "attri_data2 = {'ID':['100','101','102','105','107'],\n",
    "               'Math':[50,43,33,76,98],\n",
    "               'English':[90,30,20,50,30],\n",
    "               'Sex':['M','F','F','M','M']}\n",
    "attri_data_frame2 = DataFrame(attri_data2)\n",
    "print(attri_data_frame2)"
   ]
  },
  {
   "cell_type": "code",
   "execution_count": 41,
   "metadata": {},
   "outputs": [
    {
     "data": {
      "text/html": [
       "<div>\n",
       "<style scoped>\n",
       "    .dataframe tbody tr th:only-of-type {\n",
       "        vertical-align: middle;\n",
       "    }\n",
       "\n",
       "    .dataframe tbody tr th {\n",
       "        vertical-align: top;\n",
       "    }\n",
       "\n",
       "    .dataframe thead th {\n",
       "        text-align: right;\n",
       "    }\n",
       "</style>\n",
       "<table border=\"1\" class=\"dataframe\">\n",
       "  <thead>\n",
       "    <tr style=\"text-align: right;\">\n",
       "      <th></th>\n",
       "      <th>ID</th>\n",
       "      <th>City</th>\n",
       "      <th>Birth_year</th>\n",
       "      <th>Name</th>\n",
       "      <th>Math</th>\n",
       "      <th>English</th>\n",
       "      <th>Sex</th>\n",
       "    </tr>\n",
       "  </thead>\n",
       "  <tbody>\n",
       "    <tr>\n",
       "      <th>0</th>\n",
       "      <td>100</td>\n",
       "      <td>Taipei</td>\n",
       "      <td>1990</td>\n",
       "      <td>Sally</td>\n",
       "      <td>50</td>\n",
       "      <td>90</td>\n",
       "      <td>M</td>\n",
       "    </tr>\n",
       "    <tr>\n",
       "      <th>1</th>\n",
       "      <td>101</td>\n",
       "      <td>Taipei</td>\n",
       "      <td>1989</td>\n",
       "      <td>Hanks</td>\n",
       "      <td>43</td>\n",
       "      <td>30</td>\n",
       "      <td>F</td>\n",
       "    </tr>\n",
       "    <tr>\n",
       "      <th>2</th>\n",
       "      <td>102</td>\n",
       "      <td>Hsinchu</td>\n",
       "      <td>1992</td>\n",
       "      <td>Hannah</td>\n",
       "      <td>33</td>\n",
       "      <td>20</td>\n",
       "      <td>F</td>\n",
       "    </tr>\n",
       "  </tbody>\n",
       "</table>\n",
       "</div>"
      ],
      "text/plain": [
       "    ID     City  Birth_year    Name  Math  English Sex\n",
       "0  100   Taipei        1990   Sally    50       90   M\n",
       "1  101   Taipei        1989   Hanks    43       30   F\n",
       "2  102  Hsinchu        1992  Hannah    33       20   F"
      ]
     },
     "execution_count": 41,
     "metadata": {},
     "output_type": "execute_result"
    }
   ],
   "source": [
    "#合併資料\n",
    "pd.merge(attri_data_frame1,attri_data_frame2)"
   ]
  },
  {
   "cell_type": "markdown",
   "metadata": {},
   "source": [
    "# Statistics"
   ]
  },
  {
   "cell_type": "code",
   "execution_count": 42,
   "metadata": {},
   "outputs": [
    {
     "data": {
      "text/plain": [
       "Sex\n",
       "F    38.000000\n",
       "M    74.666667\n",
       "Name: Math, dtype: float64"
      ]
     },
     "execution_count": 42,
     "metadata": {},
     "output_type": "execute_result"
    }
   ],
   "source": [
    "#將「Sex」的行設為基準來計算出數學成績的平均分數\n",
    "attri_data_frame2.groupby('Sex')['Math'].mean()"
   ]
  },
  {
   "cell_type": "markdown",
   "metadata": {},
   "source": [
    "# Practice"
   ]
  },
  {
   "cell_type": "code",
   "execution_count": 45,
   "metadata": {},
   "outputs": [
    {
     "name": "stdout",
     "output_type": "stream",
     "text": [
      "Sex\n",
      "F    30\n",
      "M    90\n",
      "Name: English, dtype: int64\n",
      "Sex\n",
      "F    20\n",
      "M    30\n",
      "Name: English, dtype: int64\n"
     ]
    }
   ],
   "source": [
    "#將「Sex」的行設為基準來計算出英文成績的最大值與最小值。\n",
    "print(attri_data_frame2.groupby('Sex')['English'].max())\n",
    "print(attri_data_frame2.groupby('Sex')['English'].min())"
   ]
  },
  {
   "cell_type": "markdown",
   "metadata": {},
   "source": [
    "# Sort"
   ]
  },
  {
   "cell_type": "code",
   "execution_count": 46,
   "metadata": {},
   "outputs": [
    {
     "data": {
      "text/html": [
       "<div>\n",
       "<style scoped>\n",
       "    .dataframe tbody tr th:only-of-type {\n",
       "        vertical-align: middle;\n",
       "    }\n",
       "\n",
       "    .dataframe tbody tr th {\n",
       "        vertical-align: top;\n",
       "    }\n",
       "\n",
       "    .dataframe thead th {\n",
       "        text-align: right;\n",
       "    }\n",
       "</style>\n",
       "<table border=\"1\" class=\"dataframe\">\n",
       "  <thead>\n",
       "    <tr style=\"text-align: right;\">\n",
       "      <th></th>\n",
       "      <th>ID</th>\n",
       "      <th>City</th>\n",
       "      <th>Birth_year</th>\n",
       "      <th>Name</th>\n",
       "    </tr>\n",
       "  </thead>\n",
       "  <tbody>\n",
       "    <tr>\n",
       "      <th>e</th>\n",
       "      <td>100</td>\n",
       "      <td>Taipei</td>\n",
       "      <td>1990</td>\n",
       "      <td>Sally</td>\n",
       "    </tr>\n",
       "    <tr>\n",
       "      <th>b</th>\n",
       "      <td>101</td>\n",
       "      <td>Taipei</td>\n",
       "      <td>1989</td>\n",
       "      <td>Hanks</td>\n",
       "    </tr>\n",
       "    <tr>\n",
       "      <th>a</th>\n",
       "      <td>102</td>\n",
       "      <td>Hsinchu</td>\n",
       "      <td>1992</td>\n",
       "      <td>Hannah</td>\n",
       "    </tr>\n",
       "    <tr>\n",
       "      <th>d</th>\n",
       "      <td>103</td>\n",
       "      <td>Tainan</td>\n",
       "      <td>1997</td>\n",
       "      <td>Kitty</td>\n",
       "    </tr>\n",
       "    <tr>\n",
       "      <th>c</th>\n",
       "      <td>104</td>\n",
       "      <td>Kaohsiung</td>\n",
       "      <td>1982</td>\n",
       "      <td>Steve</td>\n",
       "    </tr>\n",
       "  </tbody>\n",
       "</table>\n",
       "</div>"
      ],
      "text/plain": [
       "    ID       City  Birth_year    Name\n",
       "e  100     Taipei        1990   Sally\n",
       "b  101     Taipei        1989   Hanks\n",
       "a  102    Hsinchu        1992  Hannah\n",
       "d  103     Tainan        1997   Kitty\n",
       "c  104  Kaohsiung        1982   Steve"
      ]
     },
     "execution_count": 46,
     "metadata": {},
     "output_type": "execute_result"
    }
   ],
   "source": [
    "#準備資料\n",
    "attri_data2 = {'ID':['100','101','102','103','104'],\n",
    "               'City':['Taipei','Taipei','Hsinchu','Tainan','Kaohsiung'],\n",
    "               'Birth_year':[1990,1989,1992,1997,1982],\n",
    "               'Name':['Sally','Hanks','Hannah','Kitty','Steve']}\n",
    "attri_data_frame_index2 = DataFrame(attri_data2,index=['e','b','a','d','c'])\n",
    "attri_data_frame_index2"
   ]
  },
  {
   "cell_type": "code",
   "execution_count": 47,
   "metadata": {},
   "outputs": [
    {
     "data": {
      "text/html": [
       "<div>\n",
       "<style scoped>\n",
       "    .dataframe tbody tr th:only-of-type {\n",
       "        vertical-align: middle;\n",
       "    }\n",
       "\n",
       "    .dataframe tbody tr th {\n",
       "        vertical-align: top;\n",
       "    }\n",
       "\n",
       "    .dataframe thead th {\n",
       "        text-align: right;\n",
       "    }\n",
       "</style>\n",
       "<table border=\"1\" class=\"dataframe\">\n",
       "  <thead>\n",
       "    <tr style=\"text-align: right;\">\n",
       "      <th></th>\n",
       "      <th>ID</th>\n",
       "      <th>City</th>\n",
       "      <th>Birth_year</th>\n",
       "      <th>Name</th>\n",
       "    </tr>\n",
       "  </thead>\n",
       "  <tbody>\n",
       "    <tr>\n",
       "      <th>a</th>\n",
       "      <td>102</td>\n",
       "      <td>Hsinchu</td>\n",
       "      <td>1992</td>\n",
       "      <td>Hannah</td>\n",
       "    </tr>\n",
       "    <tr>\n",
       "      <th>b</th>\n",
       "      <td>101</td>\n",
       "      <td>Taipei</td>\n",
       "      <td>1989</td>\n",
       "      <td>Hanks</td>\n",
       "    </tr>\n",
       "    <tr>\n",
       "      <th>c</th>\n",
       "      <td>104</td>\n",
       "      <td>Kaohsiung</td>\n",
       "      <td>1982</td>\n",
       "      <td>Steve</td>\n",
       "    </tr>\n",
       "    <tr>\n",
       "      <th>d</th>\n",
       "      <td>103</td>\n",
       "      <td>Tainan</td>\n",
       "      <td>1997</td>\n",
       "      <td>Kitty</td>\n",
       "    </tr>\n",
       "    <tr>\n",
       "      <th>e</th>\n",
       "      <td>100</td>\n",
       "      <td>Taipei</td>\n",
       "      <td>1990</td>\n",
       "      <td>Sally</td>\n",
       "    </tr>\n",
       "  </tbody>\n",
       "</table>\n",
       "</div>"
      ],
      "text/plain": [
       "    ID       City  Birth_year    Name\n",
       "a  102    Hsinchu        1992  Hannah\n",
       "b  101     Taipei        1989   Hanks\n",
       "c  104  Kaohsiung        1982   Steve\n",
       "d  103     Tainan        1997   Kitty\n",
       "e  100     Taipei        1990   Sally"
      ]
     },
     "execution_count": 47,
     "metadata": {},
     "output_type": "execute_result"
    }
   ],
   "source": [
    "#sort by index\n",
    "attri_data_frame_index2.sort_index()"
   ]
  },
  {
   "cell_type": "code",
   "execution_count": 48,
   "metadata": {},
   "outputs": [
    {
     "data": {
      "text/plain": [
       "c    1982\n",
       "b    1989\n",
       "e    1990\n",
       "a    1992\n",
       "d    1997\n",
       "Name: Birth_year, dtype: int64"
      ]
     },
     "execution_count": 48,
     "metadata": {},
     "output_type": "execute_result"
    }
   ],
   "source": [
    "#sort by values\n",
    "attri_data_frame_index2.Birth_year.sort_values()"
   ]
  },
  {
   "cell_type": "markdown",
   "metadata": {},
   "source": [
    "# Check nan"
   ]
  },
  {
   "cell_type": "code",
   "execution_count": 49,
   "metadata": {},
   "outputs": [
    {
     "data": {
      "text/html": [
       "<div>\n",
       "<style scoped>\n",
       "    .dataframe tbody tr th:only-of-type {\n",
       "        vertical-align: middle;\n",
       "    }\n",
       "\n",
       "    .dataframe tbody tr th {\n",
       "        vertical-align: top;\n",
       "    }\n",
       "\n",
       "    .dataframe thead th {\n",
       "        text-align: right;\n",
       "    }\n",
       "</style>\n",
       "<table border=\"1\" class=\"dataframe\">\n",
       "  <thead>\n",
       "    <tr style=\"text-align: right;\">\n",
       "      <th></th>\n",
       "      <th>ID</th>\n",
       "      <th>City</th>\n",
       "      <th>Birth_year</th>\n",
       "      <th>Name</th>\n",
       "    </tr>\n",
       "  </thead>\n",
       "  <tbody>\n",
       "    <tr>\n",
       "      <th>e</th>\n",
       "      <td>False</td>\n",
       "      <td>True</td>\n",
       "      <td>False</td>\n",
       "      <td>False</td>\n",
       "    </tr>\n",
       "    <tr>\n",
       "      <th>b</th>\n",
       "      <td>False</td>\n",
       "      <td>True</td>\n",
       "      <td>False</td>\n",
       "      <td>False</td>\n",
       "    </tr>\n",
       "    <tr>\n",
       "      <th>a</th>\n",
       "      <td>False</td>\n",
       "      <td>False</td>\n",
       "      <td>False</td>\n",
       "      <td>False</td>\n",
       "    </tr>\n",
       "    <tr>\n",
       "      <th>d</th>\n",
       "      <td>False</td>\n",
       "      <td>False</td>\n",
       "      <td>False</td>\n",
       "      <td>False</td>\n",
       "    </tr>\n",
       "    <tr>\n",
       "      <th>c</th>\n",
       "      <td>False</td>\n",
       "      <td>False</td>\n",
       "      <td>False</td>\n",
       "      <td>False</td>\n",
       "    </tr>\n",
       "  </tbody>\n",
       "</table>\n",
       "</div>"
      ],
      "text/plain": [
       "      ID   City  Birth_year   Name\n",
       "e  False   True       False  False\n",
       "b  False   True       False  False\n",
       "a  False  False       False  False\n",
       "d  False  False       False  False\n",
       "c  False  False       False  False"
      ]
     },
     "execution_count": 49,
     "metadata": {},
     "output_type": "execute_result"
    }
   ],
   "source": [
    "#確認是否存在該值\n",
    "attri_data_frame_index2.isin(['Taipei'])"
   ]
  },
  {
   "cell_type": "code",
   "execution_count": 51,
   "metadata": {},
   "outputs": [
    {
     "data": {
      "text/html": [
       "<div>\n",
       "<style scoped>\n",
       "    .dataframe tbody tr th:only-of-type {\n",
       "        vertical-align: middle;\n",
       "    }\n",
       "\n",
       "    .dataframe tbody tr th {\n",
       "        vertical-align: top;\n",
       "    }\n",
       "\n",
       "    .dataframe thead th {\n",
       "        text-align: right;\n",
       "    }\n",
       "</style>\n",
       "<table border=\"1\" class=\"dataframe\">\n",
       "  <thead>\n",
       "    <tr style=\"text-align: right;\">\n",
       "      <th></th>\n",
       "      <th>ID</th>\n",
       "      <th>City</th>\n",
       "      <th>Birth_year</th>\n",
       "      <th>Name</th>\n",
       "    </tr>\n",
       "  </thead>\n",
       "  <tbody>\n",
       "    <tr>\n",
       "      <th>e</th>\n",
       "      <td>False</td>\n",
       "      <td>False</td>\n",
       "      <td>False</td>\n",
       "      <td>True</td>\n",
       "    </tr>\n",
       "    <tr>\n",
       "      <th>b</th>\n",
       "      <td>False</td>\n",
       "      <td>False</td>\n",
       "      <td>False</td>\n",
       "      <td>True</td>\n",
       "    </tr>\n",
       "    <tr>\n",
       "      <th>a</th>\n",
       "      <td>False</td>\n",
       "      <td>False</td>\n",
       "      <td>False</td>\n",
       "      <td>True</td>\n",
       "    </tr>\n",
       "    <tr>\n",
       "      <th>d</th>\n",
       "      <td>False</td>\n",
       "      <td>False</td>\n",
       "      <td>False</td>\n",
       "      <td>True</td>\n",
       "    </tr>\n",
       "    <tr>\n",
       "      <th>c</th>\n",
       "      <td>False</td>\n",
       "      <td>False</td>\n",
       "      <td>False</td>\n",
       "      <td>True</td>\n",
       "    </tr>\n",
       "  </tbody>\n",
       "</table>\n",
       "</div>"
      ],
      "text/plain": [
       "      ID   City  Birth_year  Name\n",
       "e  False  False       False  True\n",
       "b  False  False       False  True\n",
       "a  False  False       False  True\n",
       "d  False  False       False  True\n",
       "c  False  False       False  True"
      ]
     },
     "execution_count": 51,
     "metadata": {},
     "output_type": "execute_result"
    }
   ],
   "source": [
    "# 處理遺漏值\n",
    "# 將Name設成nan\n",
    "import numpy as np\n",
    "attri_data_frame_index2['Name'] = np.nan\n",
    "\n",
    "#判斷是否為nan\n",
    "attri_data_frame_index2.isnull()"
   ]
  },
  {
   "cell_type": "code",
   "execution_count": 52,
   "metadata": {},
   "outputs": [
    {
     "data": {
      "text/plain": [
       "ID            0\n",
       "City          0\n",
       "Birth_year    0\n",
       "Name          5\n",
       "dtype: int64"
      ]
     },
     "execution_count": 52,
     "metadata": {},
     "output_type": "execute_result"
    }
   ],
   "source": [
    "#計算nan的總數\n",
    "attri_data_frame_index2.isnull().sum()"
   ]
  },
  {
   "cell_type": "markdown",
   "metadata": {},
   "source": [
    "# 練習"
   ]
  },
  {
   "cell_type": "code",
   "execution_count": 122,
   "metadata": {},
   "outputs": [
    {
     "name": "stdout",
     "output_type": "stream",
     "text": [
      "    ID Sex       Money\n",
      "88  89   F  970.842622\n",
      "     ID Sex        Money\n",
      "0     1   F  1017.886285\n",
      "13   14   M  1017.095731\n",
      "22   23   M  1014.861484\n",
      "31   32   F  1019.761108\n",
      "38   39   M  1011.239780\n",
      "50   51   F  1010.131834\n",
      "52   53   F  1011.081875\n",
      "53   54   F  1011.193907\n",
      "54   55   F  1014.875431\n",
      "60   61   F  1010.481475\n",
      "61   62   F  1013.337378\n",
      "63   64   M  1017.746450\n",
      "69   70   M  1019.389785\n",
      "73   74   F  1017.696273\n",
      "79   80   F  1013.916629\n",
      "85   86   F  1011.678823\n",
      "99  100   F  1021.581493\n",
      "     ID Sex        Money\n",
      "99  100   F  1021.581493\n",
      "31   32   F  1019.761108\n",
      "69   70   M  1019.389785\n",
      "0     1   F  1017.886285\n",
      "63   64   M  1017.746450\n",
      "73   74   F  1017.696273\n",
      "13   14   M  1017.095731\n",
      "54   55   F  1014.875431\n",
      "22   23   M  1014.861484\n",
      "79   80   F  1013.916629\n",
      "61   62   F  1013.337378\n",
      "85   86   F  1011.678823\n",
      "38   39   M  1011.239780\n",
      "53   54   F  1011.193907\n",
      "52   53   F  1011.081875\n",
      "60   61   F  1010.481475\n",
      "50   51   F  1010.131834\n"
     ]
    }
   ],
   "source": [
    "np.random.seed(2)\n",
    "array2 = np.random.randint(2,size = 100)\n",
    "array = []\n",
    "for i in range(0,100):\n",
    "    if array2[i] == 0:\n",
    "        array.append('F');\n",
    "    else:\n",
    "        array.append('M');\n",
    "np.random.seed(3)\n",
    "array3 = np.random.normal(1000,10,size = 100)\n",
    "attri_data = { 'ID':range(1,101),\n",
    "    'Sex':array,\n",
    "               'Money':array3\n",
    "               }\n",
    "attri_data_frame_index2 = DataFrame(attri_data)\n",
    "attri_data_frame_index2\n",
    "\n",
    "print(attri_data_frame_index2[attri_data_frame_index2['Money'] == attri_data_frame_index2['Money'].min()])\n",
    "print(attri_data_frame_index2[attri_data_frame_index2['Money'] > 1010])\n",
    "\n",
    "print(attri_data_frame_index2[attri_data_frame_index2['Money'] > 1010].sort_values('Money',ascending = False))"
   ]
  },
  {
   "cell_type": "markdown",
   "metadata": {},
   "source": [
    "# 資料補值：遺漏資料的處理"
   ]
  },
  {
   "cell_type": "code",
   "execution_count": 93,
   "metadata": {},
   "outputs": [
    {
     "name": "stdout",
     "output_type": "stream",
     "text": [
      "          0         1         2         3\n",
      "0  0.548814  0.715189  0.602763  0.544883\n",
      "1       NaN  0.645894  0.437587  0.891773\n",
      "2  0.963663  0.383442       NaN  0.528895\n",
      "3  0.568045  0.925597  0.071036  0.087129\n",
      "4  0.020218  0.832620  0.778157  0.870012\n",
      "5  0.978618  0.799159  0.461479       NaN\n",
      "6  0.118274  0.639921  0.143353       NaN\n",
      "7  0.521848  0.414662  0.264556       NaN\n",
      "8  0.456150  0.568434  0.018790       NaN\n",
      "9  0.612096  0.616934  0.943748       NaN\n"
     ]
    }
   ],
   "source": [
    "#資料的準備\n",
    "import numpy as np\n",
    "from numpy import nan as NA\n",
    "import pandas as pd\n",
    "np.random.seed(0)\n",
    "df = pd.DataFrame(np.random.rand(10, 4))\n",
    "# 設定為NA\n",
    "df.iloc[1,0] = NA\n",
    "df.iloc[2:3,2] = NA\n",
    "df.iloc[5:,3] = NA\n",
    "print(df)"
   ]
  },
  {
   "cell_type": "code",
   "execution_count": 94,
   "metadata": {},
   "outputs": [
    {
     "data": {
      "text/html": [
       "<div>\n",
       "<style scoped>\n",
       "    .dataframe tbody tr th:only-of-type {\n",
       "        vertical-align: middle;\n",
       "    }\n",
       "\n",
       "    .dataframe tbody tr th {\n",
       "        vertical-align: top;\n",
       "    }\n",
       "\n",
       "    .dataframe thead th {\n",
       "        text-align: right;\n",
       "    }\n",
       "</style>\n",
       "<table border=\"1\" class=\"dataframe\">\n",
       "  <thead>\n",
       "    <tr style=\"text-align: right;\">\n",
       "      <th></th>\n",
       "      <th>0</th>\n",
       "      <th>1</th>\n",
       "      <th>2</th>\n",
       "      <th>3</th>\n",
       "    </tr>\n",
       "  </thead>\n",
       "  <tbody>\n",
       "    <tr>\n",
       "      <th>0</th>\n",
       "      <td>0.548814</td>\n",
       "      <td>0.715189</td>\n",
       "      <td>0.602763</td>\n",
       "      <td>0.544883</td>\n",
       "    </tr>\n",
       "    <tr>\n",
       "      <th>3</th>\n",
       "      <td>0.568045</td>\n",
       "      <td>0.925597</td>\n",
       "      <td>0.071036</td>\n",
       "      <td>0.087129</td>\n",
       "    </tr>\n",
       "    <tr>\n",
       "      <th>4</th>\n",
       "      <td>0.020218</td>\n",
       "      <td>0.832620</td>\n",
       "      <td>0.778157</td>\n",
       "      <td>0.870012</td>\n",
       "    </tr>\n",
       "  </tbody>\n",
       "</table>\n",
       "</div>"
      ],
      "text/plain": [
       "          0         1         2         3\n",
       "0  0.548814  0.715189  0.602763  0.544883\n",
       "3  0.568045  0.925597  0.071036  0.087129\n",
       "4  0.020218  0.832620  0.778157  0.870012"
      ]
     },
     "execution_count": 94,
     "metadata": {},
     "output_type": "execute_result"
    }
   ],
   "source": [
    "#成批刪除(list-wise deletion)\n",
    "df.dropna()"
   ]
  },
  {
   "cell_type": "code",
   "execution_count": 95,
   "metadata": {},
   "outputs": [
    {
     "data": {
      "text/html": [
       "<div>\n",
       "<style scoped>\n",
       "    .dataframe tbody tr th:only-of-type {\n",
       "        vertical-align: middle;\n",
       "    }\n",
       "\n",
       "    .dataframe tbody tr th {\n",
       "        vertical-align: top;\n",
       "    }\n",
       "\n",
       "    .dataframe thead th {\n",
       "        text-align: right;\n",
       "    }\n",
       "</style>\n",
       "<table border=\"1\" class=\"dataframe\">\n",
       "  <thead>\n",
       "    <tr style=\"text-align: right;\">\n",
       "      <th></th>\n",
       "      <th>0</th>\n",
       "      <th>1</th>\n",
       "    </tr>\n",
       "  </thead>\n",
       "  <tbody>\n",
       "    <tr>\n",
       "      <th>0</th>\n",
       "      <td>0.548814</td>\n",
       "      <td>0.715189</td>\n",
       "    </tr>\n",
       "    <tr>\n",
       "      <th>2</th>\n",
       "      <td>0.963663</td>\n",
       "      <td>0.383442</td>\n",
       "    </tr>\n",
       "    <tr>\n",
       "      <th>3</th>\n",
       "      <td>0.568045</td>\n",
       "      <td>0.925597</td>\n",
       "    </tr>\n",
       "    <tr>\n",
       "      <th>4</th>\n",
       "      <td>0.020218</td>\n",
       "      <td>0.832620</td>\n",
       "    </tr>\n",
       "    <tr>\n",
       "      <th>5</th>\n",
       "      <td>0.978618</td>\n",
       "      <td>0.799159</td>\n",
       "    </tr>\n",
       "    <tr>\n",
       "      <th>6</th>\n",
       "      <td>0.118274</td>\n",
       "      <td>0.639921</td>\n",
       "    </tr>\n",
       "    <tr>\n",
       "      <th>7</th>\n",
       "      <td>0.521848</td>\n",
       "      <td>0.414662</td>\n",
       "    </tr>\n",
       "    <tr>\n",
       "      <th>8</th>\n",
       "      <td>0.456150</td>\n",
       "      <td>0.568434</td>\n",
       "    </tr>\n",
       "    <tr>\n",
       "      <th>9</th>\n",
       "      <td>0.612096</td>\n",
       "      <td>0.616934</td>\n",
       "    </tr>\n",
       "  </tbody>\n",
       "</table>\n",
       "</div>"
      ],
      "text/plain": [
       "          0         1\n",
       "0  0.548814  0.715189\n",
       "2  0.963663  0.383442\n",
       "3  0.568045  0.925597\n",
       "4  0.020218  0.832620\n",
       "5  0.978618  0.799159\n",
       "6  0.118274  0.639921\n",
       "7  0.521848  0.414662\n",
       "8  0.456150  0.568434\n",
       "9  0.612096  0.616934"
      ]
     },
     "execution_count": 95,
     "metadata": {},
     "output_type": "execute_result"
    }
   ],
   "source": [
    "#逐對刪除  拿想要的 再刪除\n",
    "df[[0,1]].dropna()"
   ]
  },
  {
   "cell_type": "code",
   "execution_count": 100,
   "metadata": {},
   "outputs": [
    {
     "name": "stdout",
     "output_type": "stream",
     "text": [
      "          0         1         2         3\n",
      "0  0.548814  0.715189  0.602763  0.544883\n",
      "1  0.000000  0.645894  0.437587  0.891773\n",
      "2  0.963663  0.383442  0.000000  0.528895\n",
      "3  0.568045  0.925597  0.071036  0.087129\n",
      "4  0.020218  0.832620  0.778157  0.870012\n",
      "5  0.978618  0.799159  0.461479  0.000000\n",
      "6  0.118274  0.639921  0.143353  0.000000\n",
      "7  0.521848  0.414662  0.264556  0.000000\n",
      "8  0.456150  0.568434  0.018790  0.000000\n",
      "9  0.612096  0.616934  0.943748  0.000000\n",
      "          0         1         2         3\n",
      "0  0.548814  0.715189  0.602763  0.544883\n",
      "1  0.548814  0.645894  0.437587  0.891773\n",
      "2  0.963663  0.383442  0.437587  0.528895\n",
      "3  0.568045  0.925597  0.071036  0.087129\n",
      "4  0.020218  0.832620  0.778157  0.870012\n",
      "5  0.978618  0.799159  0.461479  0.870012\n",
      "6  0.118274  0.639921  0.143353  0.870012\n",
      "7  0.521848  0.414662  0.264556  0.870012\n",
      "8  0.456150  0.568434  0.018790  0.870012\n",
      "9  0.612096  0.616934  0.943748  0.870012\n",
      "          0         1         2         3\n",
      "0  0.548814  0.715189  0.602763  0.544883\n",
      "1  0.531970  0.645894  0.437587  0.891773\n",
      "2  0.963663  0.383442  0.413497  0.528895\n",
      "3  0.568045  0.925597  0.071036  0.087129\n",
      "4  0.020218  0.832620  0.778157  0.870012\n",
      "5  0.978618  0.799159  0.461479  0.584539\n",
      "6  0.118274  0.639921  0.143353  0.584539\n",
      "7  0.521848  0.414662  0.264556  0.584539\n",
      "8  0.456150  0.568434  0.018790  0.584539\n",
      "9  0.612096  0.616934  0.943748  0.584539\n"
     ]
    }
   ],
   "source": [
    "#填補\n",
    "print(df.fillna(0))\n",
    "#拿前一個值\n",
    "print(df.fillna(method = 'ffill'))\n",
    "#平均值來填補\n",
    "print(df.fillna(df.mean()))"
   ]
  },
  {
   "cell_type": "markdown",
   "metadata": {},
   "source": [
    "練習"
   ]
  },
  {
   "cell_type": "code",
   "execution_count": 108,
   "metadata": {},
   "outputs": [
    {
     "data": {
      "text/html": [
       "<div>\n",
       "<style scoped>\n",
       "    .dataframe tbody tr th:only-of-type {\n",
       "        vertical-align: middle;\n",
       "    }\n",
       "\n",
       "    .dataframe tbody tr th {\n",
       "        vertical-align: top;\n",
       "    }\n",
       "\n",
       "    .dataframe thead th {\n",
       "        text-align: right;\n",
       "    }\n",
       "</style>\n",
       "<table border=\"1\" class=\"dataframe\">\n",
       "  <thead>\n",
       "    <tr style=\"text-align: right;\">\n",
       "      <th></th>\n",
       "      <th>0</th>\n",
       "      <th>1</th>\n",
       "      <th>2</th>\n",
       "      <th>3</th>\n",
       "      <th>4</th>\n",
       "      <th>5</th>\n",
       "    </tr>\n",
       "  </thead>\n",
       "  <tbody>\n",
       "    <tr>\n",
       "      <th>0</th>\n",
       "      <td>0.548814</td>\n",
       "      <td>0.715189</td>\n",
       "      <td>0.602763</td>\n",
       "      <td>0.544883</td>\n",
       "      <td>0.423655</td>\n",
       "      <td>0.645894</td>\n",
       "    </tr>\n",
       "    <tr>\n",
       "      <th>1</th>\n",
       "      <td>0.437587</td>\n",
       "      <td>0.891773</td>\n",
       "      <td>0.963663</td>\n",
       "      <td>0.383442</td>\n",
       "      <td>0.791725</td>\n",
       "      <td>0.528895</td>\n",
       "    </tr>\n",
       "    <tr>\n",
       "      <th>2</th>\n",
       "      <td>NaN</td>\n",
       "      <td>0.925597</td>\n",
       "      <td>0.071036</td>\n",
       "      <td>0.087129</td>\n",
       "      <td>0.020218</td>\n",
       "      <td>0.832620</td>\n",
       "    </tr>\n",
       "    <tr>\n",
       "      <th>3</th>\n",
       "      <td>0.778157</td>\n",
       "      <td>0.870012</td>\n",
       "      <td>0.978618</td>\n",
       "      <td>0.799159</td>\n",
       "      <td>0.461479</td>\n",
       "      <td>0.780529</td>\n",
       "    </tr>\n",
       "    <tr>\n",
       "      <th>4</th>\n",
       "      <td>0.118274</td>\n",
       "      <td>0.639921</td>\n",
       "      <td>0.143353</td>\n",
       "      <td>0.944669</td>\n",
       "      <td>0.521848</td>\n",
       "      <td>0.414662</td>\n",
       "    </tr>\n",
       "    <tr>\n",
       "      <th>5</th>\n",
       "      <td>0.264556</td>\n",
       "      <td>0.774234</td>\n",
       "      <td>NaN</td>\n",
       "      <td>0.568434</td>\n",
       "      <td>0.018790</td>\n",
       "      <td>0.617635</td>\n",
       "    </tr>\n",
       "    <tr>\n",
       "      <th>6</th>\n",
       "      <td>0.612096</td>\n",
       "      <td>0.616934</td>\n",
       "      <td>NaN</td>\n",
       "      <td>0.681820</td>\n",
       "      <td>0.359508</td>\n",
       "      <td>0.437032</td>\n",
       "    </tr>\n",
       "    <tr>\n",
       "      <th>7</th>\n",
       "      <td>0.697631</td>\n",
       "      <td>0.060225</td>\n",
       "      <td>NaN</td>\n",
       "      <td>NaN</td>\n",
       "      <td>0.210383</td>\n",
       "      <td>0.128926</td>\n",
       "    </tr>\n",
       "    <tr>\n",
       "      <th>8</th>\n",
       "      <td>0.315428</td>\n",
       "      <td>0.363711</td>\n",
       "      <td>0.570197</td>\n",
       "      <td>NaN</td>\n",
       "      <td>0.988374</td>\n",
       "      <td>0.102045</td>\n",
       "    </tr>\n",
       "    <tr>\n",
       "      <th>9</th>\n",
       "      <td>0.208877</td>\n",
       "      <td>0.161310</td>\n",
       "      <td>0.653108</td>\n",
       "      <td>0.253292</td>\n",
       "      <td>0.466311</td>\n",
       "      <td>0.244426</td>\n",
       "    </tr>\n",
       "    <tr>\n",
       "      <th>10</th>\n",
       "      <td>0.158970</td>\n",
       "      <td>0.110375</td>\n",
       "      <td>0.656330</td>\n",
       "      <td>0.138183</td>\n",
       "      <td>0.196582</td>\n",
       "      <td>NaN</td>\n",
       "    </tr>\n",
       "    <tr>\n",
       "      <th>11</th>\n",
       "      <td>0.820993</td>\n",
       "      <td>0.097101</td>\n",
       "      <td>0.837945</td>\n",
       "      <td>0.096098</td>\n",
       "      <td>0.976459</td>\n",
       "      <td>0.468651</td>\n",
       "    </tr>\n",
       "    <tr>\n",
       "      <th>12</th>\n",
       "      <td>0.976761</td>\n",
       "      <td>0.604846</td>\n",
       "      <td>0.739264</td>\n",
       "      <td>0.039188</td>\n",
       "      <td>0.282807</td>\n",
       "      <td>0.120197</td>\n",
       "    </tr>\n",
       "    <tr>\n",
       "      <th>13</th>\n",
       "      <td>0.296140</td>\n",
       "      <td>0.118728</td>\n",
       "      <td>0.317983</td>\n",
       "      <td>0.414263</td>\n",
       "      <td>0.064147</td>\n",
       "      <td>0.692472</td>\n",
       "    </tr>\n",
       "    <tr>\n",
       "      <th>14</th>\n",
       "      <td>0.566601</td>\n",
       "      <td>0.265389</td>\n",
       "      <td>0.523248</td>\n",
       "      <td>0.093941</td>\n",
       "      <td>0.575946</td>\n",
       "      <td>0.929296</td>\n",
       "    </tr>\n",
       "  </tbody>\n",
       "</table>\n",
       "</div>"
      ],
      "text/plain": [
       "           0         1         2         3         4         5\n",
       "0   0.548814  0.715189  0.602763  0.544883  0.423655  0.645894\n",
       "1   0.437587  0.891773  0.963663  0.383442  0.791725  0.528895\n",
       "2        NaN  0.925597  0.071036  0.087129  0.020218  0.832620\n",
       "3   0.778157  0.870012  0.978618  0.799159  0.461479  0.780529\n",
       "4   0.118274  0.639921  0.143353  0.944669  0.521848  0.414662\n",
       "5   0.264556  0.774234       NaN  0.568434  0.018790  0.617635\n",
       "6   0.612096  0.616934       NaN  0.681820  0.359508  0.437032\n",
       "7   0.697631  0.060225       NaN       NaN  0.210383  0.128926\n",
       "8   0.315428  0.363711  0.570197       NaN  0.988374  0.102045\n",
       "9   0.208877  0.161310  0.653108  0.253292  0.466311  0.244426\n",
       "10  0.158970  0.110375  0.656330  0.138183  0.196582       NaN\n",
       "11  0.820993  0.097101  0.837945  0.096098  0.976459  0.468651\n",
       "12  0.976761  0.604846  0.739264  0.039188  0.282807  0.120197\n",
       "13  0.296140  0.118728  0.317983  0.414263  0.064147  0.692472\n",
       "14  0.566601  0.265389  0.523248  0.093941  0.575946  0.929296"
      ]
     },
     "execution_count": 108,
     "metadata": {},
     "output_type": "execute_result"
    }
   ],
   "source": [
    "import numpy as np\n",
    "from numpy import nan as NA\n",
    "import pandas as pd\n",
    "import numpy.random as random\n",
    "random.seed(0)\n",
    "df2 = pd.DataFrame(np.random.rand(15, 6))\n",
    "df2.iloc[2,0] = NA\n",
    "df2.iloc[5:8,2] = NA\n",
    "df2.iloc[7:9,3] = NA\n",
    "df2.iloc[10,5] = NA\n",
    "df2"
   ]
  },
  {
   "cell_type": "code",
   "execution_count": 110,
   "metadata": {},
   "outputs": [
    {
     "data": {
      "text/html": [
       "<div>\n",
       "<style scoped>\n",
       "    .dataframe tbody tr th:only-of-type {\n",
       "        vertical-align: middle;\n",
       "    }\n",
       "\n",
       "    .dataframe tbody tr th {\n",
       "        vertical-align: top;\n",
       "    }\n",
       "\n",
       "    .dataframe thead th {\n",
       "        text-align: right;\n",
       "    }\n",
       "</style>\n",
       "<table border=\"1\" class=\"dataframe\">\n",
       "  <thead>\n",
       "    <tr style=\"text-align: right;\">\n",
       "      <th></th>\n",
       "      <th>0</th>\n",
       "      <th>1</th>\n",
       "      <th>2</th>\n",
       "      <th>3</th>\n",
       "      <th>4</th>\n",
       "      <th>5</th>\n",
       "    </tr>\n",
       "  </thead>\n",
       "  <tbody>\n",
       "    <tr>\n",
       "      <th>0</th>\n",
       "      <td>0.548814</td>\n",
       "      <td>0.715189</td>\n",
       "      <td>0.602763</td>\n",
       "      <td>0.544883</td>\n",
       "      <td>0.423655</td>\n",
       "      <td>0.645894</td>\n",
       "    </tr>\n",
       "    <tr>\n",
       "      <th>1</th>\n",
       "      <td>0.437587</td>\n",
       "      <td>0.891773</td>\n",
       "      <td>0.963663</td>\n",
       "      <td>0.383442</td>\n",
       "      <td>0.791725</td>\n",
       "      <td>0.528895</td>\n",
       "    </tr>\n",
       "    <tr>\n",
       "      <th>3</th>\n",
       "      <td>0.778157</td>\n",
       "      <td>0.870012</td>\n",
       "      <td>0.978618</td>\n",
       "      <td>0.799159</td>\n",
       "      <td>0.461479</td>\n",
       "      <td>0.780529</td>\n",
       "    </tr>\n",
       "    <tr>\n",
       "      <th>4</th>\n",
       "      <td>0.118274</td>\n",
       "      <td>0.639921</td>\n",
       "      <td>0.143353</td>\n",
       "      <td>0.944669</td>\n",
       "      <td>0.521848</td>\n",
       "      <td>0.414662</td>\n",
       "    </tr>\n",
       "    <tr>\n",
       "      <th>9</th>\n",
       "      <td>0.208877</td>\n",
       "      <td>0.161310</td>\n",
       "      <td>0.653108</td>\n",
       "      <td>0.253292</td>\n",
       "      <td>0.466311</td>\n",
       "      <td>0.244426</td>\n",
       "    </tr>\n",
       "    <tr>\n",
       "      <th>11</th>\n",
       "      <td>0.820993</td>\n",
       "      <td>0.097101</td>\n",
       "      <td>0.837945</td>\n",
       "      <td>0.096098</td>\n",
       "      <td>0.976459</td>\n",
       "      <td>0.468651</td>\n",
       "    </tr>\n",
       "    <tr>\n",
       "      <th>12</th>\n",
       "      <td>0.976761</td>\n",
       "      <td>0.604846</td>\n",
       "      <td>0.739264</td>\n",
       "      <td>0.039188</td>\n",
       "      <td>0.282807</td>\n",
       "      <td>0.120197</td>\n",
       "    </tr>\n",
       "    <tr>\n",
       "      <th>13</th>\n",
       "      <td>0.296140</td>\n",
       "      <td>0.118728</td>\n",
       "      <td>0.317983</td>\n",
       "      <td>0.414263</td>\n",
       "      <td>0.064147</td>\n",
       "      <td>0.692472</td>\n",
       "    </tr>\n",
       "    <tr>\n",
       "      <th>14</th>\n",
       "      <td>0.566601</td>\n",
       "      <td>0.265389</td>\n",
       "      <td>0.523248</td>\n",
       "      <td>0.093941</td>\n",
       "      <td>0.575946</td>\n",
       "      <td>0.929296</td>\n",
       "    </tr>\n",
       "  </tbody>\n",
       "</table>\n",
       "</div>"
      ],
      "text/plain": [
       "           0         1         2         3         4         5\n",
       "0   0.548814  0.715189  0.602763  0.544883  0.423655  0.645894\n",
       "1   0.437587  0.891773  0.963663  0.383442  0.791725  0.528895\n",
       "3   0.778157  0.870012  0.978618  0.799159  0.461479  0.780529\n",
       "4   0.118274  0.639921  0.143353  0.944669  0.521848  0.414662\n",
       "9   0.208877  0.161310  0.653108  0.253292  0.466311  0.244426\n",
       "11  0.820993  0.097101  0.837945  0.096098  0.976459  0.468651\n",
       "12  0.976761  0.604846  0.739264  0.039188  0.282807  0.120197\n",
       "13  0.296140  0.118728  0.317983  0.414263  0.064147  0.692472\n",
       "14  0.566601  0.265389  0.523248  0.093941  0.575946  0.929296"
      ]
     },
     "execution_count": 110,
     "metadata": {},
     "output_type": "execute_result"
    }
   ],
   "source": [
    "df2.dropna()"
   ]
  },
  {
   "cell_type": "code",
   "execution_count": 113,
   "metadata": {},
   "outputs": [
    {
     "name": "stdout",
     "output_type": "stream",
     "text": [
      "           0         1         2         3         4         5\n",
      "0   0.548814  0.715189  0.602763  0.544883  0.423655  0.645894\n",
      "1   0.437587  0.891773  0.963663  0.383442  0.791725  0.528895\n",
      "2   0.000000  0.925597  0.071036  0.087129  0.020218  0.832620\n",
      "3   0.778157  0.870012  0.978618  0.799159  0.461479  0.780529\n",
      "4   0.118274  0.639921  0.143353  0.944669  0.521848  0.414662\n",
      "5   0.264556  0.774234  0.000000  0.568434  0.018790  0.617635\n",
      "6   0.612096  0.616934  0.000000  0.681820  0.359508  0.437032\n",
      "7   0.697631  0.060225  0.000000  0.000000  0.210383  0.128926\n",
      "8   0.315428  0.363711  0.570197  0.000000  0.988374  0.102045\n",
      "9   0.208877  0.161310  0.653108  0.253292  0.466311  0.244426\n",
      "10  0.158970  0.110375  0.656330  0.138183  0.196582  0.000000\n",
      "11  0.820993  0.097101  0.837945  0.096098  0.976459  0.468651\n",
      "12  0.976761  0.604846  0.739264  0.039188  0.282807  0.120197\n",
      "13  0.296140  0.118728  0.317983  0.414263  0.064147  0.692472\n",
      "14  0.566601  0.265389  0.523248  0.093941  0.575946  0.929296\n",
      "           0         1         2         3         4         5\n",
      "0   0.548814  0.715189  0.602763  0.544883  0.423655  0.645894\n",
      "1   0.437587  0.891773  0.963663  0.383442  0.791725  0.528895\n",
      "2   0.485778  0.925597  0.071036  0.087129  0.020218  0.832620\n",
      "3   0.778157  0.870012  0.978618  0.799159  0.461479  0.780529\n",
      "4   0.118274  0.639921  0.143353  0.944669  0.521848  0.414662\n",
      "5   0.264556  0.774234  0.588126  0.568434  0.018790  0.617635\n",
      "6   0.612096  0.616934  0.588126  0.681820  0.359508  0.437032\n",
      "7   0.697631  0.060225  0.588126  0.388038  0.210383  0.128926\n",
      "8   0.315428  0.363711  0.570197  0.388038  0.988374  0.102045\n",
      "9   0.208877  0.161310  0.653108  0.253292  0.466311  0.244426\n",
      "10  0.158970  0.110375  0.656330  0.138183  0.196582  0.495949\n",
      "11  0.820993  0.097101  0.837945  0.096098  0.976459  0.468651\n",
      "12  0.976761  0.604846  0.739264  0.039188  0.282807  0.120197\n",
      "13  0.296140  0.118728  0.317983  0.414263  0.064147  0.692472\n",
      "14  0.566601  0.265389  0.523248  0.093941  0.575946  0.929296\n"
     ]
    }
   ],
   "source": [
    "print(df2.fillna(0))\n",
    "print(df2.fillna(df2.mean()))"
   ]
  },
  {
   "cell_type": "markdown",
   "metadata": {},
   "source": [
    "# 資料標註"
   ]
  },
  {
   "cell_type": "code",
   "execution_count": 114,
   "metadata": {},
   "outputs": [],
   "source": [
    "#用labal box 標註"
   ]
  }
 ],
 "metadata": {
  "kernelspec": {
   "display_name": "Python 3",
   "language": "python",
   "name": "python3"
  },
  "language_info": {
   "codemirror_mode": {
    "name": "ipython",
    "version": 3
   },
   "file_extension": ".py",
   "mimetype": "text/x-python",
   "name": "python",
   "nbconvert_exporter": "python",
   "pygments_lexer": "ipython3",
   "version": "3.8.3"
  }
 },
 "nbformat": 4,
 "nbformat_minor": 4
}
