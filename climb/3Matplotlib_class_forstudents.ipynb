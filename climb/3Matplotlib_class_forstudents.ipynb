{
 "cells": [
  {
   "cell_type": "code",
   "execution_count": 3,
   "metadata": {},
   "outputs": [],
   "source": [
    "import numpy as np\n",
    "import matplotlib.pyplot as plt\n",
    "import matplotlib as mpl\n",
    "import seaborn as sns\n",
    "\n",
    "#在Jupyter Notebook上顯示讓圖表直接在該位置\n",
    "%matplotlib inline"
   ]
  },
  {
   "cell_type": "markdown",
   "metadata": {},
   "source": [
    "# 散佈圖"
   ]
  },
  {
   "cell_type": "code",
   "execution_count": null,
   "metadata": {},
   "outputs": [],
   "source": [
    "#散佈圖\n",
    "import numpy.random as random\n",
    "\n",
    "#　固定種子值\n",
    "輸入程式碼\n",
    "\n",
    "# x軸的資料\n",
    "輸入程式碼\n",
    "\n",
    "# y軸的資料\n",
    "輸入程式碼\n",
    "\n",
    "# 指定圖形的大小（可以試著修改20或6)\n",
    "輸入程式碼\n",
    "\n",
    "# 描繪圖形\n",
    "輸入程式碼\n",
    "\n",
    "\n",
    "# 標題\n",
    "輸入程式碼\n",
    "# X軸標籤\n",
    "輸入程式碼\n",
    "# Y軸標籤\n",
    "輸入程式碼\n",
    "\n",
    "# 顯示grid（圖形中的格線）\n",
    "輸入程式碼"
   ]
  },
  {
   "cell_type": "markdown",
   "metadata": {},
   "source": [
    "# 連續值散佈圖"
   ]
  },
  {
   "cell_type": "code",
   "execution_count": null,
   "metadata": {},
   "outputs": [],
   "source": [
    "# 固定種子值\n",
    "np.random.seed(0)\n",
    "\n",
    "# 資料範圍\n",
    "numpy_data_x = np.arange(1000)\n",
    "\n",
    "# 生成亂數與累積和\n",
    "numpy_random_data_y = np.random.randn(1000).cumsum()\n",
    "\n",
    "# 指定圖形大小\n",
    "plt.figure(figsize=(20, 6))\n",
    "\n",
    "# 可藉由label= 與 legand來加上標籤\n",
    "plt.plot(numpy_data_x, numpy_random_data_y, label='Label')\n",
    "plt.legend()\n",
    "\n",
    "plt.xlabel('X')\n",
    "plt.ylabel('Y')\n",
    "plt.grid(True)"
   ]
  },
  {
   "cell_type": "markdown",
   "metadata": {},
   "source": [
    " # 圖形分割"
   ]
  },
  {
   "cell_type": "code",
   "execution_count": null,
   "metadata": {},
   "outputs": [],
   "source": [
    "plt.figure(figsize=(20, 6))\n",
    "\n",
    "#  2列1行的圖形第一個\n",
    "輸入程式碼\n",
    "# 從-10~10分割出100個數字之串列並取出\n",
    "x = np.linspace(-10, 10,100)\n",
    "輸入程式碼\n",
    "\n",
    "# 2列1行的圖形第二個\n",
    "輸入程式碼\n",
    "y = np.linspace(-10, 10,100)\n",
    "輸入程式碼\n",
    "\n",
    "plt.grid(True)"
   ]
  },
  {
   "cell_type": "markdown",
   "metadata": {},
   "source": [
    "# 畫出函數圖形"
   ]
  },
  {
   "cell_type": "code",
   "execution_count": null,
   "metadata": {},
   "outputs": [],
   "source": [
    "def my_function(x):\n",
    "    return x ** 2 + 2 * x + 1\n",
    "\n",
    "x = np.arange(-10, 10)\n",
    "plt.figure(figsize = (20, 6))\n",
    "\n",
    "#畫出函數圖形\n",
    "輸入程式碼\n",
    "\n",
    "plt.grid(True)"
   ]
  },
  {
   "cell_type": "markdown",
   "metadata": {},
   "source": [
    "# 直方圖"
   ]
  },
  {
   "cell_type": "code",
   "execution_count": null,
   "metadata": {},
   "outputs": [],
   "source": [
    "random.seed(0)\n",
    "\n",
    "# 指定圖形的大小\n",
    "plt.figure(figsize = (20, 6))\n",
    "\n",
    "# 畫直方圖\n",
    "輸入程式碼\n",
    "\n",
    "plt.grid(True)"
   ]
  }
 ],
 "metadata": {
  "kernelspec": {
   "display_name": "Python 3",
   "language": "python",
   "name": "python3"
  },
  "language_info": {
   "codemirror_mode": {
    "name": "ipython",
    "version": 3
   },
   "file_extension": ".py",
   "mimetype": "text/x-python",
   "name": "python",
   "nbconvert_exporter": "python",
   "pygments_lexer": "ipython3",
   "version": "3.8.3"
  }
 },
 "nbformat": 4,
 "nbformat_minor": 4
}
