{
 "cells": [
  {
   "cell_type": "markdown",
   "metadata": {},
   "source": [
    "# numpy 教學"
   ]
  },
  {
   "cell_type": "code",
   "execution_count": null,
   "metadata": {},
   "outputs": [],
   "source": [
    "import numpy as np #之後可直接調用"
   ]
  },
  {
   "cell_type": "code",
   "execution_count": null,
   "metadata": {},
   "outputs": [],
   "source": [
    "from numpy import random #之後要用 random.XXX 來調用"
   ]
  },
  {
   "cell_type": "code",
   "execution_count": 2,
   "metadata": {},
   "outputs": [
    {
     "data": {
      "text/plain": [
       "dtype('int32')"
      ]
     },
     "execution_count": 2,
     "metadata": {},
     "output_type": "execute_result"
    }
   ],
   "source": [
    "#輸入np array\n",
    "import numpy as np\n",
    "data = np.array([9,2,3,4,10,6,7,8,1,5])\n",
    "data.dtype"
   ]
  },
  {
   "cell_type": "code",
   "execution_count": 4,
   "metadata": {},
   "outputs": [
    {
     "name": "stdout",
     "output_type": "stream",
     "text": [
      "維度 1\n",
      "元素數量 10\n"
     ]
    }
   ],
   "source": [
    "#輸入計算出array維度與元素數量\n",
    "import numpy as np\n",
    "data = np.array([9,2,3,4,10,6,7,8,1,5])\n",
    "print('維度',data.ndim)\n",
    "print('元素數量',data.size)"
   ]
  },
  {
   "cell_type": "code",
   "execution_count": 5,
   "metadata": {},
   "outputs": [
    {
     "name": "stdout",
     "output_type": "stream",
     "text": [
      "data*2 [18  4  6  8 20 12 14 16  2 10]\n",
      "乘法運算： [10 18 24 28 30 30 28 24 18  9]\n",
      "連乘： [ 81   4   9  16 100  36  49  64   1  25]\n",
      "除法： [0.1        0.22222222 0.375      0.57142857 0.83333333 1.2\n",
      " 1.75       2.66666667 4.5        9.        ]\n"
     ]
    }
   ],
   "source": [
    "import numpy as np\n",
    "data = np.array([9,2,3,4,10,6,7,8,1,5])\n",
    "print('data*2',data*2)\n",
    "print('乘法運算：',np.array([1,2,3,4,5,6,7,8,9,9]*np.array([10,9,8,7,6,5,4,3,2,1])))\n",
    "print('連乘：',data**2)\n",
    "print('除法：',np.array([1,2,3,4,5,6,7,8,9,9]/np.array([10,9,8,7,6,5,4,3,2,1])))"
   ]
  },
  {
   "cell_type": "code",
   "execution_count": 12,
   "metadata": {},
   "outputs": [
    {
     "name": "stdout",
     "output_type": "stream",
     "text": [
      "[ 9  2  3  4 10  6  7  8  1  5]\n",
      "[ 1  2  3  4  5  6  7  8  9 10]\n",
      "[10  9  8  7  6  5  4  3  2  1]\n"
     ]
    }
   ],
   "source": [
    "#array值排序\n",
    "import numpy as np\n",
    "data = np.array([9,2,3,4,10,6,7,8,1,5])\n",
    "print(data)\n",
    "data.sort()\n",
    "print(data)\n",
    "data[::-1].sort()\n",
    "print(data)"
   ]
  },
  {
   "cell_type": "code",
   "execution_count": 14,
   "metadata": {},
   "outputs": [
    {
     "name": "stdout",
     "output_type": "stream",
     "text": [
      "最小值 1\n",
      "最大值 10\n",
      "total 55\n",
      "累積和 [ 9 11 14 18 28 34 41 49 50 55]\n",
      "累積比例 [0.16363636 0.2        0.25454545 0.32727273 0.50909091 0.61818182\n",
      " 0.74545455 0.89090909 0.90909091 1.        ]\n"
     ]
    }
   ],
   "source": [
    "#array最小值、最大值、總和、累積和、累積比例\n",
    "import numpy as np\n",
    "data = np.array([9,2,3,4,10,6,7,8,1,5])\n",
    "print('最小值',data.min())\n",
    "print('最大值',data.max())\n",
    "print('total',data.sum())\n",
    "print('累積和',data.cumsum())\n",
    "print('累積比例',data.cumsum()/data.sum())"
   ]
  },
  {
   "cell_type": "code",
   "execution_count": 18,
   "metadata": {},
   "outputs": [
    {
     "data": {
      "text/plain": [
       "'%.3f'"
      ]
     },
     "execution_count": 18,
     "metadata": {},
     "output_type": "execute_result"
    }
   ],
   "source": [
    "#顯示到小數點後第三位\n",
    "%precision 3"
   ]
  },
  {
   "cell_type": "code",
   "execution_count": 19,
   "metadata": {},
   "outputs": [
    {
     "name": "stdout",
     "output_type": "stream",
     "text": [
      "[ 1.764  0.4    0.979  2.241  1.868 -0.977  0.95  -0.151 -0.103  0.411]\n"
     ]
    }
   ],
   "source": [
    "#產生亂數\n",
    "from numpy import random\n",
    "random.seed(0)\n",
    "rnd_data = random.randn(10)\n",
    "print(rnd_data)"
   ]
  },
  {
   "cell_type": "code",
   "execution_count": 17,
   "metadata": {},
   "outputs": [
    {
     "name": "stdout",
     "output_type": "stream",
     "text": [
      "[ 7  8  8  1  2  6  5  1  5 10]\n",
      "[10  2  7  8  3  1  6  5  9  4]\n"
     ]
    }
   ],
   "source": [
    "data = np.array([9,2,3,4,10,6,7,8,1,5])\n",
    "\n",
    "# 隨機取出\n",
    "# 取出10個(允許重複，放回抽樣)\n",
    "print(random.choice(data,10))\n",
    "#  取出10個(不允許重複，不放回抽樣)\n",
    "print(random.choice(data,10,replace = False))"
   ]
  },
  {
   "cell_type": "code",
   "execution_count": 20,
   "metadata": {},
   "outputs": [
    {
     "name": "stdout",
     "output_type": "stream",
     "text": [
      "[0 1 2 3 4 5 6 7 8]\n",
      "[0 1 2 3 4 5 6 7 8]\n",
      "[[0 1 2]\n",
      " [3 4 5]\n",
      " [6 7 8]]\n",
      "第一列 [0 1 2]\n",
      "第一行 [0 3 6]\n"
     ]
    }
   ],
   "source": [
    "#產生矩陣\n",
    "import numpy as np\n",
    "array1 = np.arange(9)\n",
    "print(array1)\n",
    "array2 = array1.reshape(3,3)\n",
    "print(array1)\n",
    "print(array2)\n",
    "print('第一列',array2[0,:])\n",
    "print('第一行',array2[:,0])"
   ]
  },
  {
   "cell_type": "code",
   "execution_count": 23,
   "metadata": {},
   "outputs": [
    {
     "name": "stdout",
     "output_type": "stream",
     "text": [
      "[[0 1 2]\n",
      " [3 4 5]\n",
      " [6 7 8]]\n",
      "[[ 9 10 11]\n",
      " [12 13 14]\n",
      " [15 16 17]]\n",
      "乘法: [[ 42  45  48]\n",
      " [150 162 174]\n",
      " [258 279 300]]\n",
      "元素直接乘: [[  0  10  22]\n",
      " [ 36  52  70]\n",
      " [ 90 112 136]]\n"
     ]
    }
   ],
   "source": [
    "#矩陣運算\n",
    "import numpy as np\n",
    "array1 = np.arange(9).reshape(3,3)\n",
    "array2 = np.arange(9,18).reshape(3,3)\n",
    "print(array1)\n",
    "print(array2)\n",
    "print('乘法:',np.dot(array1,array2))\n",
    "print('元素直接乘:',(array1*array2))"
   ]
  },
  {
   "cell_type": "code",
   "execution_count": 28,
   "metadata": {},
   "outputs": [
    {
     "name": "stdout",
     "output_type": "stream",
     "text": [
      "[[0 0 0]\n",
      " [0 0 0]]\n",
      "[[1. 1. 1.]\n",
      " [1. 1. 1.]]\n"
     ]
    }
   ],
   "source": [
    "#製作元素為0或1的矩陣\n",
    "\n",
    "print(np.zeros((2,3),dtype = np.int64))\n",
    "print(np.ones((2,3),dtype = np.float64))"
   ]
  },
  {
   "cell_type": "markdown",
   "metadata": {},
   "source": [
    "# 練習"
   ]
  },
  {
   "cell_type": "markdown",
   "metadata": {},
   "source": [
    "1. 使用np.array來製作1到50的陣列，計算從1到50的自然數總和，並顯示最後的計算成果\n",
    "2. 依標準常態生成10個亂數，並製作陣列，求得其中的最小值、最大值、總和 (種子為0)\n",
    "3. 製作所有元素均為3的5列5行矩陣，計算該矩陣的平 方\n"
   ]
  },
  {
   "cell_type": "code",
   "execution_count": 34,
   "metadata": {},
   "outputs": [
    {
     "name": "stdout",
     "output_type": "stream",
     "text": [
      "1275\n"
     ]
    }
   ],
   "source": [
    "data = np.array(range(1,51))\n",
    "print(data.sum())"
   ]
  },
  {
   "cell_type": "code",
   "execution_count": 37,
   "metadata": {},
   "outputs": [
    {
     "name": "stdout",
     "output_type": "stream",
     "text": [
      "min: -0.977277879876411\n",
      "max: 2.240893199201458\n",
      "sum: 7.380231707288347\n"
     ]
    }
   ],
   "source": [
    "from numpy import random\n",
    "random.seed(0)\n",
    "rnd_data = random.randn(10)\n",
    "data = np.array(rnd_data)\n",
    "print('min:',data.min())\n",
    "print('max:',data.max())\n",
    "print('sum:',data.sum())"
   ]
  },
  {
   "cell_type": "code",
   "execution_count": 45,
   "metadata": {},
   "outputs": [
    {
     "name": "stdout",
     "output_type": "stream",
     "text": [
      "[[3 3 3 3 3]\n",
      " [3 3 3 3 3]\n",
      " [3 3 3 3 3]\n",
      " [3 3 3 3 3]\n",
      " [3 3 3 3 3]]\n"
     ]
    },
    {
     "data": {
      "text/plain": [
       "array([[45, 45, 45, 45, 45],\n",
       "       [45, 45, 45, 45, 45],\n",
       "       [45, 45, 45, 45, 45],\n",
       "       [45, 45, 45, 45, 45],\n",
       "       [45, 45, 45, 45, 45]], dtype=int64)"
      ]
     },
     "execution_count": 45,
     "metadata": {},
     "output_type": "execute_result"
    }
   ],
   "source": [
    "array = np.zeros((5,5),dtype = np.int64)\n",
    "array[:,:] = 3\n",
    "print(array)\n",
    "np.dot(array,array)"
   ]
  },
  {
   "cell_type": "code",
   "execution_count": 51,
   "metadata": {},
   "outputs": [
    {
     "name": "stdout",
     "output_type": "stream",
     "text": [
      "[[ 1.624 -0.612 -0.528 -1.073]\n",
      " [ 0.865 -2.302  1.745 -0.761]\n",
      " [ 0.319 -0.249  1.462 -2.06 ]\n",
      " [-0.322 -0.384  1.134 -1.1  ]]\n",
      "[[-0.417 -0.056 -2.136  1.64 ]\n",
      " [-1.793 -0.842  0.503 -1.245]\n",
      " [-1.058 -0.909  0.551  2.292]\n",
      " [ 0.042 -1.118  0.539 -0.596]]\n",
      "[[-0.677  0.034  1.128 -1.76 ]\n",
      " [-1.552  1.937  0.877  0.948]\n",
      " [-0.338  0.227  0.806 -4.722]\n",
      " [-0.013  0.429  0.611  0.656]]\n",
      "[[ 0.934  2.103 -4.647  2.855]\n",
      " [ 1.889  1.154 -2.454  8.739]\n",
      " [-1.318  1.166 -1.111  5.413]\n",
      " [-0.422  0.54   0.528  3.204]]\n"
     ]
    }
   ],
   "source": [
    "random.seed(1)\n",
    "rnd_data = random.randn(4*4).reshape(4,4)\n",
    "print(rnd_data)\n",
    "random.seed(2)\n",
    "array2 = np.zeros((4,4),dtype = np.int64)\n",
    "rnd_data2 = random.randn(4*4).reshape(4,4)\n",
    "print(rnd_data2)\n",
    "print(rnd_data*rnd_data2)\n",
    "print(np.dot(rnd_data,rnd_data2))"
   ]
  },
  {
   "cell_type": "code",
   "execution_count": null,
   "metadata": {},
   "outputs": [],
   "source": []
  }
 ],
 "metadata": {
  "kernelspec": {
   "display_name": "Python 3",
   "language": "python",
   "name": "python3"
  },
  "language_info": {
   "codemirror_mode": {
    "name": "ipython",
    "version": 3
   },
   "file_extension": ".py",
   "mimetype": "text/x-python",
   "name": "python",
   "nbconvert_exporter": "python",
   "pygments_lexer": "ipython3",
   "version": "3.8.3"
  }
 },
 "nbformat": 4,
 "nbformat_minor": 4
}
