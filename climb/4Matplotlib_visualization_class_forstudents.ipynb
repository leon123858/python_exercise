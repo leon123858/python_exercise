{
 "cells": [
  {
   "cell_type": "code",
   "execution_count": null,
   "metadata": {},
   "outputs": [],
   "source": [
    "import numpy as np\n",
    "import numpy.random as random\n",
    "import scipy as sp\n",
    "import pandas as pd\n",
    "from pandas import Series, DataFrame\n",
    "\n",
    "\n",
    "import matplotlib.pyplot as plt\n",
    "import matplotlib as mpl\n",
    "import seaborn as sns\n",
    "sns.set()\n",
    "%matplotlib inline\n",
    "\n",
    "\n",
    "%precision 3"
   ]
  },
  {
   "cell_type": "markdown",
   "metadata": {},
   "source": [
    "# 長條圖"
   ]
  },
  {
   "cell_type": "code",
   "execution_count": null,
   "metadata": {},
   "outputs": [],
   "source": [
    "# 顯示的資料\n",
    "x = [1, 2, 3]\n",
    "y = [10, 1, 4]\n",
    "\n",
    "# 指定圖形的大小 \n",
    "plt.figure(figsize = (10, 6))\n",
    "\n",
    "# 畫長條圖的各個標籤\n",
    "輸入程式碼\n",
    "\n",
    "# 長條圖的各個標籤\n",
    "輸入程式碼\n",
    "\n",
    "# 設定x與y的標籤\n",
    "輸入程式碼\n",
    "\n",
    "\n",
    "# 顯示格線\n",
    "plt.grid(True)"
   ]
  },
  {
   "cell_type": "markdown",
   "metadata": {},
   "source": [
    "# 橫條圖"
   ]
  },
  {
   "cell_type": "code",
   "execution_count": null,
   "metadata": {},
   "outputs": [],
   "source": [
    "# 顯示的資料\n",
    "x = [1, 2, 3]\n",
    "y = [10, 1, 4]\n",
    "\n",
    "# 指定圖形的大小 \n",
    "plt.figure(figsize = (10, 6))\n",
    "\n",
    "#畫橫條圖\n",
    "輸入程式碼\n",
    "\n",
    "# 長條圖的各個標籤\n",
    "plt.yticks(x, ['A Class','B Class','C Class'])\n",
    "\n",
    "# 設定x與y的標籤\n",
    "plt.ylabel('Class')\n",
    "plt.xlabel('Score')\n",
    "\n",
    "plt.grid(True)"
   ]
  },
  {
   "cell_type": "markdown",
   "metadata": {},
   "source": [
    "# 描繪多個長條圖"
   ]
  },
  {
   "cell_type": "code",
   "execution_count": null,
   "metadata": {},
   "outputs": [],
   "source": [
    "#資料的準備\n",
    "y1 = np.array([30, 10, 40])\n",
    "y2 = np.array([10, 50, 90])\n",
    "\n",
    "# X軸的資料\n",
    "x = np.arange(len(y1))\n",
    "\n",
    "# 圖形的寬度\n",
    "w = 0.4\n",
    "\n",
    "# 指定圖形的大小\n",
    "plt.figure(figsize = (10, 6))\n",
    "\n",
    "# 描繪圖形，對於y2，必須要右移一個寬度\n",
    "輸入程式碼\n",
    "\n",
    "# 讓圖例配置於最適當的位置\n",
    "plt.legend(loc = 'best')\n",
    "\n",
    "# x軸要往右移一個寬度\n",
    "輸入程式碼\n",
    "\n",
    "plt.grid(True)"
   ]
  },
  {
   "cell_type": "markdown",
   "metadata": {},
   "source": [
    "# 堆疊長條圖"
   ]
  },
  {
   "cell_type": "code",
   "execution_count": null,
   "metadata": {},
   "outputs": [],
   "source": [
    "# 資料的準備\n",
    "height1 = np.array([100, 200, 300, 400, 500])\n",
    "height2 = np.array([1000, 800, 600, 400, 200])\n",
    "\n",
    "# X軸\n",
    "x = np.array([1, 2, 3, 4, 5]) \n",
    "\n",
    "# 指定圖形大小\n",
    "plt.figure(figsize = (10, 6))\n",
    "\n",
    "# 畫堆疊長條圖\n",
    "輸入程式碼\n",
    "\n",
    "# 顯示不同顏色代表什麼\n",
    "輸入程式碼"
   ]
  },
  {
   "cell_type": "markdown",
   "metadata": {},
   "source": [
    "# 圓餅圖"
   ]
  },
  {
   "cell_type": "code",
   "execution_count": null,
   "metadata": {},
   "outputs": [],
   "source": [
    "labels = ['Frogs', 'Hogs', 'Dogs', 'Logs']\n",
    "sizes = [15, 30, 45, 10]\n",
    "colors = ['yellowgreen', 'gold', 'lightskyblue', 'lightcoral']\n",
    "explode = (0, 0.1, 0, 0) \n",
    "\n",
    "# 指定圖形大小\n",
    "plt.figure(figsize = (15, 6))\n",
    "\n",
    "# 顯示圖型\n",
    "輸入程式碼\n",
    "\n",
    "# 維持比例描繪圖形\n",
    "輸入程式碼"
   ]
  },
  {
   "cell_type": "markdown",
   "metadata": {},
   "source": [
    "# 泡泡圖"
   ]
  },
  {
   "cell_type": "code",
   "execution_count": null,
   "metadata": {},
   "outputs": [],
   "source": [
    "N = 25\n",
    "\n",
    "# 隨機生成X,Y資料\n",
    "x = np.random.rand(N)\n",
    "y = np.random.rand(N)\n",
    "\n",
    "# color編號\n",
    "colors = np.random.rand(N)\n",
    "\n",
    "# 讓泡泡的大小顯得散亂\n",
    "area = 10 * np.pi * (15 * np.random.rand(N)) ** 2\n",
    "\n",
    "plt.figure(figsize = (15, 6))\n",
    "\n",
    "# 描繪圖形\n",
    "輸入程式碼\n",
    "\n",
    "\n",
    "plt.grid(True)"
   ]
  }
 ],
 "metadata": {
  "kernelspec": {
   "display_name": "Python 3",
   "language": "python",
   "name": "python3"
  },
  "language_info": {
   "codemirror_mode": {
    "name": "ipython",
    "version": 3
   },
   "file_extension": ".py",
   "mimetype": "text/x-python",
   "name": "python",
   "nbconvert_exporter": "python",
   "pygments_lexer": "ipython3",
   "version": "3.8.3"
  }
 },
 "nbformat": 4,
 "nbformat_minor": 4
}
