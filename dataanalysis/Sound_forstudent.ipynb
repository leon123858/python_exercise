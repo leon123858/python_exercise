{
 "cells": [
  {
   "cell_type": "code",
   "execution_count": 14,
   "metadata": {},
   "outputs": [],
   "source": [
    "#import mixer from pygame\n",
    "#initialize mixer\n",
    "from pygame import mixer\n",
    "mixer.init()"
   ]
  },
  {
   "cell_type": "code",
   "execution_count": 16,
   "metadata": {},
   "outputs": [
    {
     "data": {
      "text/plain": [
       "<Channel at 0x1d8e45c5d30>"
      ]
     },
     "execution_count": 16,
     "metadata": {},
     "output_type": "execute_result"
    }
   ],
   "source": [
    "#插入音效\n",
    "sound = mixer.Sound('wav/cheers.wav')\n",
    "#sound.play()"
   ]
  },
  {
   "cell_type": "code",
   "execution_count": 22,
   "metadata": {},
   "outputs": [],
   "source": [
    "#建立功能表，status為目前播放的檔案\n",
    "def menu(status):\n",
    "    os.system(\"cls\")\n",
    "    print(\"wav 播放器 {}\".format(status))\n",
    "    print(\"--------------------------------------\")\n",
    "    print(\"1.播  放\")\n",
    "    print(\"2.上一首\")\n",
    "    print(\"3.下一首\")\n",
    "    print(\"4.停止播放\")\n",
    "    print(\"0.結束程式\")\n",
    "    print(\"--------------------------------------\")\n",
    "    \n",
    "#播放音效檔一次，並顯示正在播放的檔名\n",
    "def playwav(song):\n",
    "    global status,sound\n",
    "    #輸入Sound\n",
    "    sound = mixer.Sound(song)\n",
    "    #設定播放次數\n",
    "    sound.play(loops = 0)\n",
    "    \n",
    "    status=\"正在播放 {}\".format(song)            \n",
    "\n",
    "#停止目前的音效，重新載入音效播放\n",
    "def playNewwav(song):\n",
    "    global status,sound\n",
    "    #停止目前的音效\n",
    "    sound.stop()\n",
    "    #輸入Sound\n",
    "    sound = mixer.Sound(song)\n",
    "    #設定播放次數\n",
    "    sound.play(loops=0)   \n",
    "    status=\"正在播放 {}\".format(song)  "
   ]
  },
  {
   "cell_type": "code",
   "execution_count": null,
   "metadata": {},
   "outputs": [
    {
     "name": "stdout",
     "output_type": "stream",
     "text": [
      "wav 播放器 \n",
      "--------------------------------------\n",
      "1.播  放\n",
      "2.上一首\n",
      "3.下一首\n",
      "4.停止播放\n",
      "0.結束程式\n",
      "--------------------------------------\n"
     ]
    }
   ],
   "source": [
    "### 主程式從這裡開始 ###\n",
    "    \n",
    "from pygame import mixer\n",
    "import glob,os\n",
    "mixer.init()\n",
    "\n",
    "#載入wav到音效中\n",
    "source_dir = \"wav/\"\n",
    "wavfiles = glob.glob(source_dir + \"*.wav\")\n",
    "index=0\n",
    "status=\"\"\n",
    "#建立Sound播放物件\n",
    "sound = mixer.Sound(wavfiles[index])\n",
    "\n",
    "while True:\n",
    "    menu(status)\n",
    "    choice = int(input(\"請輸入您的選擇：\"))\n",
    "    #輸入不同選擇\n",
    "    #若為1，以自訂的playwav()播放音效檔\n",
    "    if choice == 1:\n",
    "        playwav(wavfiles[index])\n",
    "    #若為2，以自訂的playNewwav()重新載入音效檔，並重新播放下一首音效，如果已到最後一首則重新回到第一首\n",
    "    elif choice == 2:\n",
    "        index += 1\n",
    "        if index==len(wavfiles):\n",
    "            index=0\n",
    "        playNewwav(wavfiles[index])\n",
    "    #若為3，以自訂的playNewwav()重新載入音效檔，並重新播放上一首音效，如果已到第一首則重新回到最後一首\n",
    "    elif choice == 3:\n",
    "        index -= 1\n",
    "        if index<0:\n",
    "            index=len(wavfiles)-1\n",
    "        playNewwav(wavfiles[index])\n",
    "    #以stop()停止音效播放\n",
    "    elif choice == 4:\n",
    "        sound.stop()\n",
    "        status = '停止播放'\n",
    "    else:\n",
    "        break\n",
    "\n",
    "#以stop()停止音效播放\n",
    "\n",
    "print(\"程式執行完畢！\")"
   ]
  }
 ],
 "metadata": {
  "kernelspec": {
   "display_name": "Python 3",
   "language": "python",
   "name": "python3"
  },
  "language_info": {
   "codemirror_mode": {
    "name": "ipython",
    "version": 3
   },
   "file_extension": ".py",
   "mimetype": "text/x-python",
   "name": "python",
   "nbconvert_exporter": "python",
   "pygments_lexer": "ipython3",
   "version": "3.8.3"
  }
 },
 "nbformat": 4,
 "nbformat_minor": 4
}
