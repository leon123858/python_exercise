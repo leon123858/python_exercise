{
 "cells": [
  {
   "cell_type": "markdown",
   "metadata": {},
   "source": [
    "# Indention \n",
    "### 有空行無法執行 空白相當於分號"
   ]
  },
  {
   "cell_type": "code",
   "execution_count": 6,
   "metadata": {},
   "outputs": [
    {
     "name": "stdout",
     "output_type": "stream",
     "text": [
      "sdsad\n",
      "sadasd\n"
     ]
    }
   ],
   "source": [
    "print('sdsad')\n",
    "#    print('sadasd')\n",
    "print('sadasd')   "
   ]
  },
  {
   "cell_type": "markdown",
   "metadata": {},
   "source": [
    "# comment"
   ]
  },
  {
   "cell_type": "code",
   "execution_count": 7,
   "metadata": {},
   "outputs": [
    {
     "data": {
      "text/plain": [
       "'\\n我是註解\\n'"
      ]
     },
     "execution_count": 7,
     "metadata": {},
     "output_type": "execute_result"
    }
   ],
   "source": [
    "#我是註解\n",
    "\"\"\"\n",
    "我是註解\n",
    "\"\"\""
   ]
  },
  {
   "cell_type": "markdown",
   "metadata": {},
   "source": [
    "# type"
   ]
  },
  {
   "cell_type": "code",
   "execution_count": 8,
   "metadata": {},
   "outputs": [
    {
     "name": "stdout",
     "output_type": "stream",
     "text": [
      "<class 'int'>\n",
      "<class 'float'>\n",
      "<class 'bool'>\n",
      "<class 'str'>\n",
      "<class 'NoneType'>\n"
     ]
    }
   ],
   "source": [
    "i=5\n",
    "print(type(i))\n",
    "i=5.5\n",
    "print(type(i))\n",
    "i= True\n",
    "print(type(i))\n",
    "i= 'something'\n",
    "print(type(i))\n",
    "i = None\n",
    "print(type(i))"
   ]
  },
  {
   "attachments": {},
   "cell_type": "markdown",
   "metadata": {},
   "source": [
    "# Assignment"
   ]
  },
  {
   "cell_type": "code",
   "execution_count": 11,
   "metadata": {},
   "outputs": [
    {
     "name": "stdout",
     "output_type": "stream",
     "text": [
      "3\n"
     ]
    }
   ],
   "source": [
    "x=1\n",
    "y=2\n",
    "z=x+y\n",
    "print(z)"
   ]
  },
  {
   "attachments": {},
   "cell_type": "markdown",
   "metadata": {},
   "source": [
    "# Mathematical Operator"
   ]
  },
  {
   "cell_type": "code",
   "execution_count": 17,
   "metadata": {},
   "outputs": [
    {
     "name": "stdout",
     "output_type": "stream",
     "text": [
      "7\n",
      "-1\n",
      "12\n",
      "0.75\n",
      "0\n",
      "3\n",
      "81\n",
      "x + y = 7\n"
     ]
    }
   ],
   "source": [
    "x=3;y=4\n",
    "z=x+y;print(z)\n",
    "z=x-y;print(z)\n",
    "z=x*y;print(z)\n",
    "z=x/y;print(z)\n",
    "z=x//y;print(z) #取整餘數\n",
    "z=x%y;print(z)\n",
    "z=x**y;print(z) #取次方\n",
    "\n",
    "#print(\"****\",\"##\") output:*** ##\n",
    "\n",
    "print(\"x + y =\",x+y)"
   ]
  },
  {
   "cell_type": "markdown",
   "metadata": {},
   "source": [
    "# Comparison Operator"
   ]
  },
  {
   "cell_type": "code",
   "execution_count": 20,
   "metadata": {},
   "outputs": [
    {
     "name": "stdout",
     "output_type": "stream",
     "text": [
      "x < y => True\n",
      "x <= y => True\n",
      "x > y => False\n",
      "x >= y => False\n",
      "x == y => False\n",
      "x != y => True\n"
     ]
    }
   ],
   "source": [
    "x=5;y=8\n",
    "print(\"x < y =>\",x<y)\n",
    "print(\"x <= y =>\",x<=y)\n",
    "print(\"x > y =>\",x>y)\n",
    "print(\"x >= y =>\",x>=y)\n",
    "print(\"x == y =>\",x==y)\n",
    "print(\"x != y =>\",x!=y)"
   ]
  },
  {
   "cell_type": "markdown",
   "metadata": {},
   "source": [
    "# boolen"
   ]
  },
  {
   "cell_type": "code",
   "execution_count": 21,
   "metadata": {},
   "outputs": [
    {
     "name": "stdout",
     "output_type": "stream",
     "text": [
      "a and b False\n",
      "a or b True\n",
      "not a False\n",
      "not b True\n"
     ]
    }
   ],
   "source": [
    "a = True\n",
    "b = False\n",
    "\n",
    "print('a and b', a and b)\n",
    "print('a or b',a or b)\n",
    "print('not a',not a)\n",
    "print('not b',not b)"
   ]
  },
  {
   "cell_type": "markdown",
   "metadata": {},
   "source": [
    "# 流程控制"
   ]
  },
  {
   "cell_type": "code",
   "execution_count": 26,
   "metadata": {},
   "outputs": [
    {
     "name": "stdout",
     "output_type": "stream",
     "text": [
      "a>b\n",
      "!=\n"
     ]
    }
   ],
   "source": [
    "#if elif else\n",
    "a=3;b=2\n",
    "if a < b:\n",
    "    print(\"a<b\")\n",
    "elif a == b:\n",
    "    print(\"a==b\")\n",
    "else:\n",
    "    print(\"a>b\")\n",
    "    \n",
    "if (a<b) or (a > b):\n",
    "    print('!=')\n",
    "else:\n",
    "    print('=')"
   ]
  },
  {
   "cell_type": "code",
   "execution_count": 36,
   "metadata": {},
   "outputs": [
    {
     "name": "stdout",
     "output_type": "stream",
     "text": [
      "5\n",
      "4\n",
      "3\n",
      "2\n",
      "1\n",
      "sum= 15\n",
      "avg= 3.0\n"
     ]
    }
   ],
   "source": [
    "#for\n",
    "i=5\n",
    "data = [0]*i\n",
    "for data_point in data:\n",
    "    data_point = i\n",
    "    print(data_point)\n",
    "    i-=1\n",
    "    \n",
    "for x in range(0,5):\n",
    "    data[x] = x+1\n",
    "    \n",
    "s=0\n",
    "for data_point in data:\n",
    "    s += data_point\n",
    "    \n",
    "print('sum=',s)\n",
    "print('avg=',s/len(data))"
   ]
  },
  {
   "cell_type": "code",
   "execution_count": 39,
   "metadata": {},
   "outputs": [
    {
     "name": "stdout",
     "output_type": "stream",
     "text": [
      "1\n",
      "2\n",
      "3\n",
      "5\n",
      "8\n",
      "13\n",
      "21\n",
      "34\n",
      "55\n"
     ]
    }
   ],
   "source": [
    "#while\n",
    "first = 0\n",
    "second = 1\n",
    "n = 10\n",
    "while n>2:\n",
    "    third = first + second\n",
    "    first = second\n",
    "    second = third\n",
    "    n-=1\n",
    "    print(third)\n",
    "print(first+second)"
   ]
  },
  {
   "cell_type": "code",
   "execution_count": 53,
   "metadata": {},
   "outputs": [
    {
     "name": "stdout",
     "output_type": "stream",
     "text": [
      "12\n",
      "one time\n",
      "2\n",
      "one time\n",
      "4\n",
      "one time\n",
      "6\n",
      "one time\n",
      "8\n",
      "one time\n"
     ]
    }
   ],
   "source": [
    "#break continue\n",
    "numbers = [12,2,4,6,3,5,8,-1,2,5,7,9]\n",
    "#for n in numbers:\n",
    "    #print(n)\n",
    "#印偶數 遇到-1中斷\n",
    "for n in numbers:\n",
    "    if n % 2 == 0:\n",
    "        print(n)\n",
    "    elif n == -1:\n",
    "        break\n",
    "    else:\n",
    "        continue\n",
    "    print('one time')"
   ]
  },
  {
   "cell_type": "markdown",
   "metadata": {},
   "source": [
    "# Error Handling"
   ]
  },
  {
   "cell_type": "code",
   "execution_count": 66,
   "metadata": {},
   "outputs": [
    {
     "name": "stdout",
     "output_type": "stream",
     "text": [
      "asasas\n"
     ]
    }
   ],
   "source": [
    "try:\n",
    "    a=1;b=0\n",
    "    c = a/b\n",
    "except Exception as e:\n",
    "    #print(e)\n",
    "    pass\n",
    "\n",
    "#raise(\"asaddsaad\")\n",
    "\n",
    "try:\n",
    "    raise Exception(\"asasas\")\n",
    "except Exception as e:\n",
    "    print(e)"
   ]
  },
  {
   "cell_type": "code",
   "execution_count": null,
   "metadata": {},
   "outputs": [],
   "source": []
  }
 ],
 "metadata": {
  "kernelspec": {
   "display_name": "Python 3",
   "language": "python",
   "name": "python3"
  },
  "language_info": {
   "codemirror_mode": {
    "name": "ipython",
    "version": 3
   },
   "file_extension": ".py",
   "mimetype": "text/x-python",
   "name": "python",
   "nbconvert_exporter": "python",
   "pygments_lexer": "ipython3",
   "version": "3.8.3"
  }
 },
 "nbformat": 4,
 "nbformat_minor": 4
}
