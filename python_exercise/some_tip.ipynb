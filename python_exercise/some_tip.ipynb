{
 "cells": [
  {
   "cell_type": "markdown",
   "metadata": {},
   "source": [
    "# Range"
   ]
  },
  {
   "cell_type": "code",
   "execution_count": 2,
   "metadata": {},
   "outputs": [
    {
     "name": "stdout",
     "output_type": "stream",
     "text": [
      "0\n",
      "2\n",
      "4\n",
      "6\n",
      "8\n"
     ]
    }
   ],
   "source": [
    "for i in range(0,10,2):\n",
    "    print(i)"
   ]
  },
  {
   "cell_type": "markdown",
   "metadata": {},
   "source": [
    "# String"
   ]
  },
  {
   "cell_type": "code",
   "execution_count": 9,
   "metadata": {},
   "outputs": [
    {
     "name": "stdout",
     "output_type": "stream",
     "text": [
      "aaabbbbbbbddddddd\n",
      "asdasdasdas CCCCCCCCCC sadasd\n",
      "1 + 2 = 3\n",
      "1 + 2 = 3\n"
     ]
    }
   ],
   "source": [
    "str = 'aaa'\n",
    "str2 = 'bbbbbbb'\n",
    "str3 = 'ddddddd'\n",
    "mid = \"CCCCCCCCCC\"\n",
    "\n",
    "str4 = str + str2 + str3\n",
    "print(str4)\n",
    "print(f\"asdasdasdas {mid} sadasd\")\n",
    "\n",
    "x = 1\n",
    "y = 2\n",
    "z = x + y\n",
    "print('{} + {} = {}'.format(x,y,z))\n",
    "print('{n} + {h} = {k}'.format(n = x,h = y,k = z)) #順續可對調了"
   ]
  },
  {
   "cell_type": "markdown",
   "metadata": {},
   "source": [
    "# join and split"
   ]
  },
  {
   "cell_type": "code",
   "execution_count": 12,
   "metadata": {},
   "outputs": [
    {
     "name": "stdout",
     "output_type": "stream",
     "text": [
      "['this', 'is', 'a', 'baby']\n",
      "this_is_a_baby\n"
     ]
    }
   ],
   "source": [
    "str = 'this is a baby'\n",
    "sp_text = str.split(' ')\n",
    "jo_text = '_'.join(sp_text)\n",
    "print(sp_text)\n",
    "print(jo_text)"
   ]
  },
  {
   "attachments": {
    "image.png": {
     "image/png": "[encoded data removed]"
    }
   },
   "cell_type": "markdown",
   "metadata": {},
   "source": [
    "# Spread Operator\n",
    "### *在變數前表示展開\n",
    "###\n",
    "使用 * 展開 List\n",
    "使用 ** 展開 Dict![image.png](attachment:image.png)"
   ]
  },
  {
   "cell_type": "code",
   "execution_count": 13,
   "metadata": {},
   "outputs": [
    {
     "name": "stdout",
     "output_type": "stream",
     "text": [
      "0 1 [2, 3, 4, 5, 6, 7, 8, 9]\n"
     ]
    }
   ],
   "source": [
    "first,second,*third = range(10)\n",
    "print(first,second,third)"
   ]
  },
  {
   "cell_type": "code",
   "execution_count": 15,
   "metadata": {},
   "outputs": [
    {
     "name": "stdout",
     "output_type": "stream",
     "text": [
      "[[1, 2, 3], 4, 5, 6]\n",
      "[1, 2, 3, 4, 5, 6]\n"
     ]
    }
   ],
   "source": [
    "num = [1,2,3]\n",
    "N_num = [num,4,5,6]\n",
    "print(N_num)\n",
    "\n",
    "N_num = [*num,4,5,6]\n",
    "print(N_num)"
   ]
  },
  {
   "cell_type": "code",
   "execution_count": 17,
   "metadata": {},
   "outputs": [
    {
     "name": "stdout",
     "output_type": "stream",
     "text": [
      "{'key': 12345678, 3: 'eee'}\n"
     ]
    }
   ],
   "source": [
    "dic_sample = {'key':12345678}\n",
    "dic = {\n",
    "    **dic_sample,\n",
    "    3:'eee'\n",
    "}\n",
    "print(dic)"
   ]
  },
  {
   "attachments": {},
   "cell_type": "markdown",
   "metadata": {},
   "source": [
    "# Comprehension\n",
    "Comprehension 是一種語法糖，使我們可以用較簡潔的方式來遍歷元素\n",
    "List Comprehension 使用方式\n",
    "[ expression for item in list if conditional ]\n",
    "Dict Comprehension 使用方式\n",
    "{ key_expression: value_expression for item in list if conditional }"
   ]
  },
  {
   "cell_type": "code",
   "execution_count": 18,
   "metadata": {},
   "outputs": [
    {
     "name": "stdout",
     "output_type": "stream",
     "text": [
      "[0, 1, 4, 9, 16, 25, 36, 49, 64, 81]\n"
     ]
    }
   ],
   "source": [
    "x = [i**2 for i in range(10)]\n",
    "print(x)"
   ]
  },
  {
   "cell_type": "code",
   "execution_count": 19,
   "metadata": {},
   "outputs": [
    {
     "name": "stdout",
     "output_type": "stream",
     "text": [
      "{'aa': 'aa', 'bb': 'bb', 'cc': 'cc', 'dd': 'dd'}\n"
     ]
    }
   ],
   "source": [
    "list = ['aa','bb','cc','dd']\n",
    "dic = {f:f for f in list}\n",
    "print(dic)"
   ]
  },
  {
   "cell_type": "code",
   "execution_count": null,
   "metadata": {},
   "outputs": [],
   "source": []
  }
 ],
 "metadata": {
  "kernelspec": {
   "display_name": "Python 3",
   "language": "python",
   "name": "python3"
  },
  "language_info": {
   "codemirror_mode": {
    "name": "ipython",
    "version": 3
   },
   "file_extension": ".py",
   "mimetype": "text/x-python",
   "name": "python",
   "nbconvert_exporter": "python",
   "pygments_lexer": "ipython3",
   "version": "3.8.3"
  }
 },
 "nbformat": 4,
 "nbformat_minor": 4
}
