{
 "cells": [
  {
   "cell_type": "markdown",
   "metadata": {},
   "source": [
    "# Tuple (配對)\n",
    "## 不可改\n",
    "## 一個包含多型別\n",
    "## 可以同時多個賦值"
   ]
  },
  {
   "cell_type": "code",
   "execution_count": 1,
   "metadata": {},
   "outputs": [
    {
     "name": "stdout",
     "output_type": "stream",
     "text": [
      "(10, 20, 30) ('Tom', 12)\n",
      "30\n",
      "12\n"
     ]
    }
   ],
   "source": [
    "x = 10,20,30\n",
    "y= 'Tom',12\n",
    "print(x,y)\n",
    "print(x[2])\n",
    "print(y[1])"
   ]
  },
  {
   "cell_type": "code",
   "execution_count": 2,
   "metadata": {},
   "outputs": [
    {
     "ename": "TypeError",
     "evalue": "'tuple' object does not support item assignment",
     "output_type": "error",
     "traceback": [
      "\u001b[1;31m---------------------------------------------------------------------------\u001b[0m",
      "\u001b[1;31mTypeError\u001b[0m                                 Traceback (most recent call last)",
      "\u001b[1;32m<ipython-input-2-b506acbfd407>\u001b[0m in \u001b[0;36m<module>\u001b[1;34m\u001b[0m\n\u001b[1;32m----> 1\u001b[1;33m \u001b[0my\u001b[0m\u001b[1;33m[\u001b[0m\u001b[1;36m1\u001b[0m\u001b[1;33m]\u001b[0m \u001b[1;33m=\u001b[0m \u001b[1;36m2\u001b[0m\u001b[1;33m\u001b[0m\u001b[1;33m\u001b[0m\u001b[0m\n\u001b[0m",
      "\u001b[1;31mTypeError\u001b[0m: 'tuple' object does not support item assignment"
     ]
    }
   ],
   "source": [
    "y[1] = 2 #不可改"
   ]
  },
  {
   "cell_type": "code",
   "execution_count": 3,
   "metadata": {},
   "outputs": [
    {
     "name": "stdout",
     "output_type": "stream",
     "text": [
      "1 Tom True\n"
     ]
    }
   ],
   "source": [
    "a,b,c = 1,'Tom',True\n",
    "print(a,b,c)"
   ]
  },
  {
   "cell_type": "markdown",
   "metadata": {},
   "source": [
    "# List\n",
    "## 可改\n",
    "## 多型別一個 有序陣列"
   ]
  },
  {
   "cell_type": "code",
   "execution_count": 4,
   "metadata": {},
   "outputs": [
    {
     "name": "stdout",
     "output_type": "stream",
     "text": [
      "[10, 20, 30] ['Tom', 12]\n",
      "30\n",
      "12\n"
     ]
    }
   ],
   "source": [
    "x = [10,20,30]\n",
    "y= ['Tom',12]\n",
    "print(x,y)\n",
    "print(x[2])\n",
    "print(y[1])"
   ]
  },
  {
   "cell_type": "code",
   "execution_count": 7,
   "metadata": {},
   "outputs": [
    {
     "name": "stdout",
     "output_type": "stream",
     "text": [
      "2\n"
     ]
    }
   ],
   "source": [
    "y[1] = 2 #可改\n",
    "print(y[1])"
   ]
  },
  {
   "cell_type": "code",
   "execution_count": 6,
   "metadata": {},
   "outputs": [
    {
     "name": "stdout",
     "output_type": "stream",
     "text": [
      "1 Tom True\n"
     ]
    }
   ],
   "source": [
    "a,b,c = [1,'Tom',True]\n",
    "print(a,b,c)"
   ]
  },
  {
   "cell_type": "code",
   "execution_count": 9,
   "metadata": {},
   "outputs": [
    {
     "name": "stdout",
     "output_type": "stream",
     "text": [
      "[1, 2, 3, 4, 5]\n",
      "[1, 2, 3, 4, 5, 6]\n",
      "[0, 1, 2, 3, 4, 5, 6]\n",
      "[0, 1, 2, 3, 4, 5, 6, 7, 8, 9, 10]\n",
      "[0, 1, 2, 3, 4, 5, 6, 7, 8, 10]\n",
      "[0, 1, 2, 3, 4, 5, 6, 7, 8]\n"
     ]
    }
   ],
   "source": [
    "list = [1,2,3,4,5]\n",
    "print(list)\n",
    "list.append(6)\n",
    "print(list)\n",
    "list.insert(0,0)\n",
    "print(list)\n",
    "list.extend([7,8,9,10])\n",
    "print(list)\n",
    "list.remove(9)\n",
    "print(list)\n",
    "list.pop()\n",
    "print(list)"
   ]
  },
  {
   "cell_type": "markdown",
   "metadata": {},
   "source": [
    "Lists slower but more powerful than tuples.\n",
    "Lists can be modified, and they have lots of handy operations we can perform on them.\n",
    "Tuples are immutable and have fewer features.\n",
    "We can always convert between tuples and lists using the list() and tuple() functions.\n",
    "### function\n",
    "li = list(tu),\n",
    "tu = tuple(li)"
   ]
  },
  {
   "cell_type": "markdown",
   "metadata": {},
   "source": [
    "# Dictionary"
   ]
  },
  {
   "cell_type": "code",
   "execution_count": 19,
   "metadata": {},
   "outputs": [
    {
     "name": "stdout",
     "output_type": "stream",
     "text": [
      "{'a': 'asdfghjk', 2: 123, 'aasd': 3344, 'star': [1, 2, 3, 'Tom'], 'sss': {'x': 'd', 'f': 'ff', 'z': {100: 1223}}}\n",
      "asdfghjk\n",
      "123\n",
      "Tom\n",
      "d\n",
      "1223\n",
      "None\n",
      "100\n",
      "123\n",
      "1234\n"
     ]
    }
   ],
   "source": [
    "movie = {\n",
    "    \"a\":\"asdfghjk\",\n",
    "    2:123,\n",
    "    \"aasd\":3344,\n",
    "    'star':[1,2,3,\"Tom\"],\n",
    "    \"sss\":{\n",
    "        \"x\":\"d\",\n",
    "        \"f\":\"ff\",\n",
    "        \"z\":{\n",
    "            100:1223\n",
    "        }\n",
    "    }\n",
    "}\n",
    "print(movie)\n",
    "print(movie['a'])\n",
    "print(movie[2])\n",
    "print(movie['star'][3])\n",
    "print(movie['sss']['x'])\n",
    "print(movie['sss']['z'][100])\n",
    "#當 怕key不存在 可用.get處理\n",
    "print(movie.get(55))\n",
    "print(movie.get(55,100))#後面是不存在時的回傳\n",
    "#更改\n",
    "print(movie[2])\n",
    "movie[2] = 1234\n",
    "print(movie[2])"
   ]
  },
  {
   "attachments": {},
   "cell_type": "markdown",
   "metadata": {},
   "source": [
    "# Set\n",
    "## 保存的資料內容無順序\n",
    "## 數學意義上的「集合」，因此資料內容不重複\n"
   ]
  },
  {
   "cell_type": "code",
   "execution_count": 31,
   "metadata": {},
   "outputs": [
    {
     "name": "stdout",
     "output_type": "stream",
     "text": [
      "set()\n",
      "{1, 2, 3, 4}\n",
      "{0, 1, 2, 3, 4}\n",
      "{1}\n",
      "{'d', 'h', 'f', 'g', 'a', 's'}\n",
      "True\n",
      "True\n",
      "False\n"
     ]
    }
   ],
   "source": [
    "s1 = set()\n",
    "print(s1)\n",
    "s2 = {1,2,3,4}\n",
    "print(s2)\n",
    "s3 = set(range(5))\n",
    "print(s3)\n",
    "# 重複自動消失\n",
    "s4 = {1,1,1,1,1,1,1,1}\n",
    "print(s4)\n",
    "#字元特性\n",
    "s5 = set('asddfghhh')#只有這種情況\n",
    "print(s5)\n",
    "# 集合操作\n",
    "s1 = set()\n",
    "s2 = {1}\n",
    "s3 = {1,2}\n",
    "#包含\n",
    "print(s1 <= s2)\n",
    "print(s2 <= s3)\n",
    "#在外\n",
    "print(s1 >= s2)"
   ]
  },
  {
   "cell_type": "markdown",
   "metadata": {},
   "source": [
    "# looking up item"
   ]
  },
  {
   "cell_type": "code",
   "execution_count": 36,
   "metadata": {},
   "outputs": [
    {
     "name": "stdout",
     "output_type": "stream",
     "text": [
      "3\n",
      "3\n",
      "[1, 2, 3]\n",
      "[1, 2, 3]\n",
      "[4, 5]\n",
      "[1, 3, 5]\n"
     ]
    }
   ],
   "source": [
    "list = [1,2,3,4,5]\n",
    "print(list[2])\n",
    "print(list[-3])\n",
    "print(list[0:3])\n",
    "print(list[:3])\n",
    "print(list[3:])\n",
    "print(list[::2])"
   ]
  },
  {
   "cell_type": "code",
   "execution_count": 39,
   "metadata": {},
   "outputs": [
    {
     "name": "stdout",
     "output_type": "stream",
     "text": [
      "[1, 2, 3, 4, 5]\n",
      "[1, 2, 3, 4, 5]\n"
     ]
    }
   ],
   "source": [
    "#copy list\n",
    "listN = list #copy by reference\n",
    "print(listN)\n",
    "listN = list[:] #copy by value\n",
    "print(listN)"
   ]
  },
  {
   "cell_type": "code",
   "execution_count": null,
   "metadata": {},
   "outputs": [],
   "source": []
  }
 ],
 "metadata": {
  "kernelspec": {
   "display_name": "Python 3",
   "language": "python",
   "name": "python3"
  },
  "language_info": {
   "codemirror_mode": {
    "name": "ipython",
    "version": 3
   },
   "file_extension": ".py",
   "mimetype": "text/x-python",
   "name": "python",
   "nbconvert_exporter": "python",
   "pygments_lexer": "ipython3",
   "version": "3.8.3"
  }
 },
 "nbformat": 4,
 "nbformat_minor": 4
}
