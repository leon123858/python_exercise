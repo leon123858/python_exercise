{
 "cells": [
  {
   "cell_type": "markdown",
   "metadata": {},
   "source": [
    "# function"
   ]
  },
  {
   "cell_type": "code",
   "execution_count": 2,
   "metadata": {},
   "outputs": [
    {
     "name": "stdout",
     "output_type": "stream",
     "text": [
      "11\n",
      "1\n"
     ]
    }
   ],
   "source": [
    "def AadAndMinus(a,b,operater = \"add\"):\n",
    "    if operater == 'add':\n",
    "        return a + b\n",
    "    elif operater == 'minus':\n",
    "        return a - b\n",
    "print(AadAndMinus(6,5))\n",
    "print(AadAndMinus(6,5,'minus'))"
   ]
  },
  {
   "cell_type": "markdown",
   "metadata": {},
   "source": [
    "# recursive\n"
   ]
  },
  {
   "cell_type": "code",
   "execution_count": 4,
   "metadata": {},
   "outputs": [
    {
     "name": "stdout",
     "output_type": "stream",
     "text": [
      "89\n",
      "55\n",
      "34\n",
      "21\n",
      "13\n",
      "8\n",
      "5\n",
      "3\n",
      "2\n",
      "1\n",
      "None\n"
     ]
    }
   ],
   "source": [
    "def fab(a,b,n):\n",
    "    if a+b>n:\n",
    "        return a+b\n",
    "    else:\n",
    "        fab(b,a+b,n)\n",
    "        print(a+b)\n",
    "print(fab(0,1,100))"
   ]
  },
  {
   "cell_type": "markdown",
   "metadata": {},
   "source": [
    "# class"
   ]
  },
  {
   "cell_type": "code",
   "execution_count": 6,
   "metadata": {},
   "outputs": [
    {
     "name": "stdout",
     "output_type": "stream",
     "text": [
      "i am baby\n"
     ]
    }
   ],
   "source": [
    "class Animal():\n",
    "    def __init__(self,type):\n",
    "        self.name = type\n",
    "    def say_hello(self):\n",
    "        print(\"i am \" + self.name)\n",
    "animal = Animal('baby')\n",
    "animal.say_hello()"
   ]
  },
  {
   "cell_type": "code",
   "execution_count": 11,
   "metadata": {},
   "outputs": [
    {
     "name": "stdout",
     "output_type": "stream",
     "text": [
      "asdfghj\n",
      "i am dog\n",
      "whorf\n"
     ]
    }
   ],
   "source": [
    "#繼承\n",
    "class Dog(Animal):\n",
    "    def bark(self):\n",
    "        print('whorf')\n",
    "    def say_hello(self):\n",
    "        print('asdfghj')\n",
    "        super().say_hello() #super()可以呼叫到父輩的函數\n",
    "dog = Dog('dog');\n",
    "dog.say_hello();\n",
    "dog.bark();"
   ]
  },
  {
   "cell_type": "code",
   "execution_count": null,
   "metadata": {},
   "outputs": [],
   "source": []
  }
 ],
 "metadata": {
  "kernelspec": {
   "display_name": "Python 3",
   "language": "python",
   "name": "python3"
  },
  "language_info": {
   "codemirror_mode": {
    "name": "ipython",
    "version": 3
   },
   "file_extension": ".py",
   "mimetype": "text/x-python",
   "name": "python",
   "nbconvert_exporter": "python",
   "pygments_lexer": "ipython3",
   "version": "3.8.3"
  }
 },
 "nbformat": 4,
 "nbformat_minor": 4
}
