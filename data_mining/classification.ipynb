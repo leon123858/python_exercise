{
 "cells": [
  {
   "cell_type": "markdown",
   "metadata": {},
   "source": [
    "# 分類法\n",
    "### decision tree"
   ]
  },
  {
   "cell_type": "code",
   "execution_count": 63,
   "metadata": {},
   "outputs": [],
   "source": [
    "# 引用 sklearn\n",
    "from sklearn.datasets import load_iris\n",
    "from sklearn import tree\n",
    "from sklearn.model_selection import train_test_split\t#用來分割訓練/測試資料\n",
    "from sklearn.metrics import accuracy_score\n",
    "from sklearn.neighbors import KNeighborsClassifier\n"
   ]
  },
  {
   "cell_type": "code",
   "execution_count": 64,
   "metadata": {},
   "outputs": [],
   "source": [
    "# 讀入鳶尾花資料\n",
    "iris = load_iris()\n",
    "iris_X = iris.data\n",
    "iris_y = iris.target"
   ]
  },
  {
   "cell_type": "code",
   "execution_count": 65,
   "metadata": {},
   "outputs": [],
   "source": [
    "# 切分訓練與測試資料\n",
    "train_X, test_X, train_y, test_y = train_test_split(iris_X, iris_y, test_size = 0.3)\n",
    "#https://scikit-learn.org/stable/modules/generated/sklearn.model_selection.train_test_split.html\n"
   ]
  },
  {
   "cell_type": "code",
   "execution_count": 66,
   "metadata": {},
   "outputs": [],
   "source": [
    "# 建立分類器\n",
    "clf = tree.DecisionTreeClassifier()\n",
    "iris_clf = clf.fit(train_X, train_y)\n"
   ]
  },
  {
   "cell_type": "code",
   "execution_count": 67,
   "metadata": {},
   "outputs": [
    {
     "name": "stdout",
     "output_type": "stream",
     "text": [
      "[2 2 2 0 0 0 1 1 1 0 1 1 2 1 1 2 1 2 1 2 1 0 1 0 0 1 0 2 1 1 0 0 1 1 2 0 1\n",
      " 2 0 2 1 2 0 1 1]\n",
      "[2 1 2 0 0 0 1 1 1 0 1 1 2 1 2 2 1 2 1 2 1 0 1 0 0 1 0 2 1 1 0 0 1 1 2 0 1\n",
      " 2 0 2 1 2 0 1 1]\n"
     ]
    }
   ],
   "source": [
    "# 預測\n",
    "test_y_predicted = iris_clf.predict(test_X)\n",
    "print(test_y_predicted)\n",
    "\n",
    "# 標準答案\n",
    "print(test_y)"
   ]
  },
  {
   "cell_type": "code",
   "execution_count": 68,
   "metadata": {},
   "outputs": [
    {
     "name": "stdout",
     "output_type": "stream",
     "text": [
      "0.9555555555555556\n"
     ]
    }
   ],
   "source": [
    "# 績效\n",
    "accuracy = accuracy_score(test_y, test_y_predicted)\n",
    "print(accuracy)"
   ]
  },
  {
   "cell_type": "markdown",
   "metadata": {},
   "source": [
    "decision tree 分類器是建立一顆決策樹 用來預測時就從樹根開始跑"
   ]
  },
  {
   "cell_type": "markdown",
   "metadata": {},
   "source": [
    "### 比較test_size大小"
   ]
  },
  {
   "cell_type": "code",
   "execution_count": 69,
   "metadata": {},
   "outputs": [
    {
     "name": "stdout",
     "output_type": "stream",
     "text": [
      "0.9444444444444444\n",
      "0.9333333333333333\n"
     ]
    }
   ],
   "source": [
    "for i in range(0,2):\n",
    "    if i == 1 :\n",
    "        size = 0.4\n",
    "    else:\n",
    "        size = 0.6\n",
    "    train_X, test_X, train_y, test_y = train_test_split(iris_X, iris_y, test_size = size)\n",
    "    clf = tree.DecisionTreeClassifier()\n",
    "    iris_clf = clf.fit(train_X, train_y)\n",
    "    test_y_predicted = iris_clf.predict(test_X)\n",
    "    accuracy = accuracy_score(test_y, test_y_predicted)\n",
    "    print(accuracy)"
   ]
  },
  {
   "cell_type": "markdown",
   "metadata": {},
   "source": [
    "## KNN (k nearest neighbor)"
   ]
  },
  {
   "cell_type": "code",
   "execution_count": 77,
   "metadata": {},
   "outputs": [
    {
     "name": "stdout",
     "output_type": "stream",
     "text": [
      "0.9555555555555556\n"
     ]
    }
   ],
   "source": [
    "#分割資料\n",
    "train_X, test_X, train_y, test_y = train_test_split(iris_X, iris_y, test_size = 0.3)\n",
    "#利用KNN演算法建立分類器\n",
    "clf = KNeighborsClassifier(n_neighbors = 5) #k = 5\n",
    "iris_clf = clf.fit(train_X, train_y)\n",
    "#利用分類器預測test_x的結果\n",
    "test_y_predicted = iris_clf.predict(test_X)\n",
    "#比較結果與實際的答案差多少\n",
    "accuracy = accuracy_score(test_y, test_y_predicted)\n",
    "print(accuracy)"
   ]
  },
  {
   "cell_type": "markdown",
   "metadata": {},
   "source": [
    "KNN 分類器\n",
    "一個資料結構 快速計算輸入的多維度量化資料 計算距離最短(min((sumi(Xi^2))^(0.5)))的k個已知點(建立分類器時輸入的點),裡面最多的標籤就是預測結果"
   ]
  }
 ],
 "metadata": {
  "kernelspec": {
   "display_name": "Python 3",
   "language": "python",
   "name": "python3"
  },
  "language_info": {
   "codemirror_mode": {
    "name": "ipython",
    "version": 3
   },
   "file_extension": ".py",
   "mimetype": "text/x-python",
   "name": "python",
   "nbconvert_exporter": "python",
   "pygments_lexer": "ipython3",
   "version": "3.8.3"
  }
 },
 "nbformat": 4,
 "nbformat_minor": 4
}
