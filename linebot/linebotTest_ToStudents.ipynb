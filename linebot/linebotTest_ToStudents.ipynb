{
 "cells": [
  {
   "cell_type": "code",
   "execution_count": 1,
   "metadata": {},
   "outputs": [
    {
     "name": "stdout",
     "output_type": "stream",
     "text": [
      " * Serving Flask app \"__main__\" (lazy loading)\n",
      " * Environment: production\n",
      "   WARNING: This is a development server. Do not use it in a production deployment.\n",
      "   Use a production WSGI server instead.\n",
      " * Debug mode: off\n"
     ]
    },
    {
     "name": "stderr",
     "output_type": "stream",
     "text": [
      " * Running on http://127.0.0.1:5000/ (Press CTRL+C to quit)\n",
      "127.0.0.1 - - [18/Aug/2020 19:25:40] \"\u001b[37mPOST /callback HTTP/1.1\u001b[0m\" 200 -\n",
      "127.0.0.1 - - [18/Aug/2020 19:25:43] \"\u001b[37mPOST /callback HTTP/1.1\u001b[0m\" 200 -\n",
      "127.0.0.1 - - [18/Aug/2020 19:25:56] \"\u001b[37mPOST /callback HTTP/1.1\u001b[0m\" 200 -\n",
      "127.0.0.1 - - [18/Aug/2020 19:25:59] \"\u001b[37mPOST /callback HTTP/1.1\u001b[0m\" 200 -\n",
      "127.0.0.1 - - [18/Aug/2020 19:26:02] \"\u001b[37mPOST /callback HTTP/1.1\u001b[0m\" 200 -\n",
      "127.0.0.1 - - [18/Aug/2020 19:26:04] \"\u001b[37mPOST /callback HTTP/1.1\u001b[0m\" 200 -\n",
      "127.0.0.1 - - [18/Aug/2020 19:26:06] \"\u001b[37mPOST /callback HTTP/1.1\u001b[0m\" 200 -\n",
      "127.0.0.1 - - [18/Aug/2020 19:26:08] \"\u001b[37mPOST /callback HTTP/1.1\u001b[0m\" 200 -\n",
      "127.0.0.1 - - [18/Aug/2020 19:26:09] \"\u001b[37mPOST /callback HTTP/1.1\u001b[0m\" 200 -\n",
      "127.0.0.1 - - [18/Aug/2020 19:28:49] \"\u001b[37mPOST /callback HTTP/1.1\u001b[0m\" 200 -\n",
      "127.0.0.1 - - [18/Aug/2020 19:28:52] \"\u001b[37mPOST /callback HTTP/1.1\u001b[0m\" 200 -\n",
      "127.0.0.1 - - [18/Aug/2020 19:28:57] \"\u001b[37mPOST /callback HTTP/1.1\u001b[0m\" 200 -\n"
     ]
    }
   ],
   "source": [
    "from flask import Flask\n",
    "app = Flask(__name__)\n",
    "\n",
    "from flask import Flask, request, abort\n",
    "from linebot import  LineBotApi, WebhookHandler\n",
    "from linebot.exceptions import InvalidSignatureError\n",
    "from linebot.models import MessageEvent, TextMessage,TextSendMessage, ImageSendMessage, StickerSendMessage, LocationSendMessage, QuickReply, QuickReplyButton, MessageAction\n",
    "\n",
    "line_bot_api = LineBotApi('pSbBYKWsvl1BBOOSYhpIkbZjq9tkskvtAjxyvJ8VmUo34XSFLCu3ejzM3ajGM39FubmT5Fxe/7oJVEqzz8kVG4Dwwem6V+KCeoAS2cG9I7yprBYxVk24YYBw53Vy1PfJ2Rq71wgUoU5x2fiBWXhIfgdB04t89/1O/w1cDnyilFU=')\n",
    "handler = WebhookHandler('add0795b8c74ec22f36d93de4ea3c797')\n",
    "\n",
    "@app.route(\"/callback\", methods=['POST'])\n",
    "def callback():\n",
    "    signature = request.headers['X-Line-Signature']\n",
    "    body = request.get_data(as_text=True)\n",
    "    try:\n",
    "        handler.handle(body, signature)\n",
    "    except InvalidSignatureError:\n",
    "        abort(400)\n",
    "    return 'OK'\n",
    "\n",
    "#加入一個message handler\n",
    "#XXXXXXXX\n",
    "@handler.add(MessageEvent, message=TextMessage)\n",
    "def handle_message(event):\n",
    "    try:\n",
    "        img_url = 'https://i.imgur.com/4Ze2vH4.jpg';\n",
    "        if event.message.text == '我要妹':\n",
    "            mtext = ImageSendMessage(original_content_url=img_url,preview_image_url=img_url)\n",
    "        elif event.message.text == '我要貼圖':\n",
    "            mtext = StickerSendMessage(package_id='1',sticker_id='2')\n",
    "        elif event.message.text == '我全都要':\n",
    "            mtext = [StickerSendMessage(package_id='1',sticker_id='2'),TextSendMessage(text=\"你傳啥??\"),ImageSendMessage(original_content_url=img_url,preview_image_url=img_url)]\n",
    "        elif event.message.text == '我要位置':\n",
    "            mtext = LocationSendMessage(\n",
    "                title='my location',\n",
    "                address='Tokyo',\n",
    "                latitude=35.65910807942215,\n",
    "                longitude=139.70372892916203,\n",
    "            )\n",
    "        elif event.message.text == '我推妹':\n",
    "            mtext = TextSendMessage(text='請說話',\n",
    "                                    quick_reply=QuickReply(\n",
    "                items=[\n",
    "                QuickReplyButton(action = MessageAction(label='我要貼圖',text='我要貼圖')),\n",
    "                QuickReplyButton(action = MessageAction(label='我全都要',text='我全都要')),\n",
    "                QuickReplyButton(action = MessageAction(label='我要位置',text='我要位置')),\n",
    "                ]))\n",
    "        else:\n",
    "            mtext = TextSendMessage(text=\"你傳啥??\")\n",
    "    #撰寫接受到的選項對應的動作\n",
    "        line_bot_api.reply_message(event.reply_token,mtext)\n",
    "    except e:\n",
    "        line_bot_api.reply_message(event.reply_token,TextSendMessage(text='有問題喔!'))\n",
    "\n",
    "if __name__ == '__main__':\n",
    "    app.run()\n"
   ]
  },
  {
   "cell_type": "code",
   "execution_count": null,
   "metadata": {},
   "outputs": [],
   "source": []
  },
  {
   "cell_type": "code",
   "execution_count": null,
   "metadata": {},
   "outputs": [],
   "source": []
  },
  {
   "cell_type": "code",
   "execution_count": null,
   "metadata": {},
   "outputs": [],
   "source": []
  }
 ],
 "metadata": {
  "kernelspec": {
   "display_name": "Python 3",
   "language": "python",
   "name": "python3"
  },
  "language_info": {
   "codemirror_mode": {
    "name": "ipython",
    "version": 3
   },
   "file_extension": ".py",
   "mimetype": "text/x-python",
   "name": "python",
   "nbconvert_exporter": "python",
   "pygments_lexer": "ipython3",
   "version": "3.8.3"
  }
 },
 "nbformat": 4,
 "nbformat_minor": 4
}
